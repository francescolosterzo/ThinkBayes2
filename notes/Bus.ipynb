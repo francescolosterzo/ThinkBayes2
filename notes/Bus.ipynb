{
 "cells": [
  {
   "cell_type": "markdown",
   "metadata": {},
   "source": [
    "# Bus\n",
    "This notebook contains the solutions to the exercises in chapter 7 of the book. It looks like the exercises changed in the second edition of the book (see [here](https://github.com/francescolosterzo/ThinkBayes2/blob/master/code/chap07.ipynb)).\n",
    "\n",
    "On the other hand, in chapter 8 of the book a bunch of very similar problems (the Red Line problem) is solved step by step. I'll use the bus problems presented here to go through all the steps and get full solutions. So this notebooks contains \"extended\" solutions to the bus exercises as also some further exploration on the material presented in chapter 8 is there."
   ]
  },
  {
   "cell_type": "code",
   "execution_count": 1,
   "metadata": {},
   "outputs": [],
   "source": [
    "import matplotlib.pyplot as plt\n",
    "import numpy as np\n",
    "\n",
    "import thinkbayes2\n",
    "import thinkplot"
   ]
  },
  {
   "cell_type": "markdown",
   "metadata": {},
   "source": [
    "**Ex. 7.1**:\n",
    "If buses arrive at a bus stop every 20 minutes, and you arrive at the bus stop at a random time, your wait time until the bus arrives is uniformly distributed from 0 to 20 minutes.\n",
    "\n",
    "But in reality, there is variability in the time between buses. Suppose you are waiting for a bus, and you know the historical distribution of time between buses. Compute your distribution of wait times.\n",
    "\n",
    "*Hint*: Suppose that the time between buses is either 5 or 10 minutes with equal probability. What is the probability that you arrive during one of the 10 minute intervals?\n"
   ]
  },
  {
   "cell_type": "markdown",
   "metadata": {},
   "source": [
    "**Solution**: the first sentence can be written in terms of probability as follows:\n",
    "\n",
    "P($\\Delta$t = 20min) = 1  \n",
    "P(wait) = uniform(0,20)\n",
    "\n",
    "Following the hint of the two possible waiting times, we have:\n",
    "\n",
    "P($\\Delta$t = 5min) = 0.5  \n",
    "P($\\Delta$t = 10min) = 0.5\n",
    "\n",
    "and each of them brings to an uniform distribution between 0 and $\\Delta$t. So the final P(wait) is the mixture of the two components:\n",
    "\n",
    "P(wait) = P($\\Delta$t = 5min) $\\times$ uniform(0,5) + P($\\Delta$t = 10min) $\\times$ uniform(0,10)"
   ]
  },
  {
   "cell_type": "markdown",
   "metadata": {},
   "source": [
    "Let's first start with the (gaps between the) arrival times: 5 minutes and 10 minutes with the same probability."
   ]
  },
  {
   "cell_type": "code",
   "execution_count": 2,
   "metadata": {},
   "outputs": [
    {
     "data": {
      "text/plain": [
       "2"
      ]
     },
     "execution_count": 2,
     "metadata": {},
     "output_type": "execute_result"
    }
   ],
   "source": [
    "arrivalTime = thinkbayes2.Pmf(label='arrival time')\n",
    "arrivalTime.Incr(5)\n",
    "arrivalTime.Incr(10)\n",
    "arrivalTime.Normalize()"
   ]
  },
  {
   "cell_type": "code",
   "execution_count": 5,
   "metadata": {},
   "outputs": [
    {
     "data": {
      "image/png": "[encoded data removed]",
      "text/plain": [
       "<Figure size 576x432 with 1 Axes>"
      ]
     },
     "metadata": {
      "needs_background": "light"
     },
     "output_type": "display_data"
    }
   ],
   "source": [
    "thinkplot.Clf()\n",
    "thinkplot.PrePlot(num=1)\n",
    "thinkplot.Hist(arrivalTime)\n",
    "thinkplot.Config(xlabel='time gap between busses (minutes)',\n",
    "                ylabel='PMF',\n",
    "                xticks=[ v for v, p in arrivalTime.Items() ])"
   ]
  },
  {
   "cell_type": "code",
   "execution_count": 6,
   "metadata": {},
   "outputs": [
    {
     "name": "stdout",
     "output_type": "stream",
     "text": [
      "average time between busses: 7.5\n"
     ]
    }
   ],
   "source": [
    "print('average time between busses:', arrivalTime.Mean())"
   ]
  },
  {
   "cell_type": "markdown",
   "metadata": {},
   "source": [
    "Let's now compute the waiting time. Using Allen's machinery this can be easily computed with \"mixtures\". Let's first define a class `Wait` (similar to the class `Die` introduced when showing mixtures)."
   ]
  },
  {
   "cell_type": "code",
   "execution_count": 16,
   "metadata": {},
   "outputs": [],
   "source": [
    "class Wait(thinkbayes2.Pmf):\n",
    "    '''\n",
    "    represent the waiting time for a bus\n",
    "    '''\n",
    "    def __init__(self, minutes, label=None):\n",
    "        '''\n",
    "        initialize\n",
    "        * minutes: number of minutes between buses\n",
    "        * label: string\n",
    "        '''\n",
    "        \n",
    "        hypos = range(0, minutes)\n",
    "        thinkbayes2.Pmf.__init__(self, hypos, label=label)"
   ]
  },
  {
   "cell_type": "markdown",
   "metadata": {},
   "source": [
    "Double check: model the example in the first sentence."
   ]
  },
  {
   "cell_type": "code",
   "execution_count": 8,
   "metadata": {},
   "outputs": [],
   "source": [
    "wait = Wait(20)"
   ]
  },
  {
   "cell_type": "code",
   "execution_count": 9,
   "metadata": {},
   "outputs": [
    {
     "data": {
      "image/png": "[encoded data removed]",
      "text/plain": [
       "<Figure size 576x432 with 1 Axes>"
      ]
     },
     "metadata": {
      "needs_background": "light"
     },
     "output_type": "display_data"
    }
   ],
   "source": [
    "thinkplot.Clf()\n",
    "thinkplot.PrePlot(num=1)\n",
    "\n",
    "thinkplot.Pmf(wait)"
   ]
  },
  {
   "cell_type": "markdown",
   "metadata": {},
   "source": [
    "Get the probability distribution of `wait` in the case proposed by the exercise."
   ]
  },
  {
   "cell_type": "code",
   "execution_count": 10,
   "metadata": {},
   "outputs": [],
   "source": [
    "wait = thinkbayes2.Pmf()\n",
    "for tg, p in arrivalTime.Items():\n",
    "    wait.Set(Wait(tg), p)\n",
    "mix = thinkbayes2.MakeMixture(wait, label='waiting time')"
   ]
  },
  {
   "cell_type": "code",
   "execution_count": 11,
   "metadata": {},
   "outputs": [
    {
     "data": {
      "image/png": "[encoded data removed]",
      "text/plain": [
       "<Figure size 576x432 with 1 Axes>"
      ]
     },
     "metadata": {
      "needs_background": "light"
     },
     "output_type": "display_data"
    }
   ],
   "source": [
    "thinkplot.Clf()\n",
    "thinkplot.PrePlot(num=1)\n",
    "thinkplot.Pmf(mix, align='left')\n",
    "thinkplot.Config(xlabel='waiting time (minutes)',\n",
    "                ylabel='PMF')"
   ]
  },
  {
   "cell_type": "markdown",
   "metadata": {},
   "source": [
    "This is the distribution of the \"real\" (i.e. unbiased, using the lexicon of the book) waiting time."
   ]
  },
  {
   "cell_type": "markdown",
   "metadata": {},
   "source": [
    "Let's now compute the probability of arriving in a 10-minutes interval. In order to have a clear understanding of the problem, let's consider the minimal time interval that one can build with the two time intervals with the same probability, i.e. 10 + 5 minutes.\n",
    "\n",
    "<img src=\"timeIntervals.png\" style=\"width: 400px;\"/>\n",
    "\n",
    "If you select a random point in the above segment, it is more likely that the point is in the red (10 minutes) interval, since it is larger than the blue (5 minutes) interval. As hinted in the book, the probability of arriving in a given interval (5- or 10-minutes) is proportional to the size of the interval itself."
   ]
  },
  {
   "cell_type": "code",
   "execution_count": 12,
   "metadata": {},
   "outputs": [
    {
     "data": {
      "text/plain": [
       "7.5"
      ]
     },
     "execution_count": 12,
     "metadata": {},
     "output_type": "execute_result"
    }
   ],
   "source": [
    "arrivalTime2 = arrivalTime.Copy(label='biased arrival time')\n",
    "for tg, p in arrivalTime.Items():\n",
    "    arrivalTime2.Mult(tg, tg)\n",
    "arrivalTime2.Normalize()"
   ]
  },
  {
   "cell_type": "code",
   "execution_count": 13,
   "metadata": {},
   "outputs": [
    {
     "name": "stdout",
     "output_type": "stream",
     "text": [
      "probability of arriving in a 10-minutes interval: 0.6666666666666666\n"
     ]
    }
   ],
   "source": [
    "print('probability of arriving in a 10-minutes interval:', arrivalTime2.Prob(10))"
   ]
  },
  {
   "cell_type": "markdown",
   "metadata": {},
   "source": [
    "As a final step, let's compute the biased distribution of the arrival time (which, as far as I understand) it is what has been computed at the previous step."
   ]
  },
  {
   "cell_type": "code",
   "execution_count": 15,
   "metadata": {},
   "outputs": [
    {
     "data": {
      "image/png": "[encoded data removed]",
      "text/plain": [
       "<Figure size 576x432 with 1 Axes>"
      ]
     },
     "metadata": {
      "needs_background": "light"
     },
     "output_type": "display_data"
    }
   ],
   "source": [
    "thinkplot.Clf()\n",
    "thinkplot.PrePlot(num=2)\n",
    "thinkplot.Hists([arrivalTime, arrivalTime2], alpha=.3)\n",
    "thinkplot.Config(xlabel='time gap between busses (minutes)',\n",
    "                ylabel='PMF',\n",
    "                xticks=[ v for v, p in arrivalTime.Items() ])"
   ]
  },
  {
   "cell_type": "markdown",
   "metadata": {},
   "source": [
    "The next step in the book is to compute the waiting time. Following the book definition: `zb = x + y`, where `zb` is the biased time interval between busses, `x` is the time between the last bus departure and the arrival of a passenger and `y` is the time between the arrival of the passenger and the next bus, i.e. the waiting time.\n",
    "\n",
    "As stated above, if a passenger arrives at a random time during a time interval of 5 minutes, his/her wating time has a uniform distribution between 0 and 5 (and the same holds for a 10 minutes interval). So for the `zb` distribution obtained right above, the waiting time is a mixture of uniform distributions."
   ]
  },
  {
   "cell_type": "code",
   "execution_count": 124,
   "metadata": {},
   "outputs": [],
   "source": [
    "### have to use the same definitions as in the book for a better handling of the finite resolution\n",
    "def MakeRange(low, high, skip=10):\n",
    "    return range(low, high+skip, skip)\n",
    "\n",
    "def MakeUniformPmf(low, high):\n",
    "    pmf = thinkbayes2.Pmf()\n",
    "    \n",
    "    low_s = low * 60\n",
    "    high_s = high * 60\n",
    "    \n",
    "    #for x in MakeRange(low=low, high=high):\n",
    "    for x in MakeRange(low=low_s, high=high_s):\n",
    "        pmf.Set(x/60, 1)\n",
    "    pmf.Normalize()\n",
    "    \n",
    "    return pmf"
   ]
  },
  {
   "cell_type": "code",
   "execution_count": 132,
   "metadata": {},
   "outputs": [],
   "source": [
    "def BiasPmf(pmf):\n",
    "    new_pmf = pmf.Copy()\n",
    "    for x, p in pmf.Items():\n",
    "        new_pmf.Mult(x, x)\n",
    "    new_pmf.Normalize()\n",
    "    return new_pmf"
   ]
  },
  {
   "cell_type": "code",
   "execution_count": 125,
   "metadata": {},
   "outputs": [],
   "source": [
    "def ProbOfWaitingTime(pmf, label=None):\n",
    "    \n",
    "    metapmf = thinkbayes2.Pmf()\n",
    "    \n",
    "    for gap, prob in pmf.Items():\n",
    "        \n",
    "        ## number of seconds with 10 seconds resolution\n",
    "        nSeconds = gap * 60\n",
    "        uniform = MakeUniformPmf(0, gap)\n",
    "        metapmf.Set( uniform, prob )\n",
    "        \n",
    "    return thinkbayes2.MakeMixture(metapmf, label=label)"
   ]
  },
  {
   "cell_type": "code",
   "execution_count": 138,
   "metadata": {},
   "outputs": [],
   "source": [
    "class WaitTimeCalculator(object):\n",
    "    def __init__(self, pmf_z):\n",
    "        self.pmf_z = pmf_z\n",
    "        self.pmf_z.label = 'unbiased'\n",
    "        self.pmf_zb = BiasPmf(pmf_z)\n",
    "        self.pmf_zb.label = 'biased'\n",
    "        \n",
    "        self.pmf_y = ProbOfWaitingTime(self.pmf_zb)\n",
    "        self.pmf_x = self.pmf_y"
   ]
  },
  {
   "cell_type": "code",
   "execution_count": 126,
   "metadata": {},
   "outputs": [
    {
     "data": {
      "text/plain": [
       "Pmf({5: 0.5, 10: 0.5}, 'arrival time')"
      ]
     },
     "execution_count": 126,
     "metadata": {},
     "output_type": "execute_result"
    }
   ],
   "source": [
    "arrivalTime"
   ]
  },
  {
   "cell_type": "code",
   "execution_count": 127,
   "metadata": {},
   "outputs": [],
   "source": [
    "wait = ProbOfWaitingTime(arrivalTime, label='waiting time from unbiased distribution')"
   ]
  },
  {
   "cell_type": "code",
   "execution_count": 129,
   "metadata": {},
   "outputs": [
    {
     "data": {
      "image/png": "[encoded data removed]",
      "text/plain": [
       "<Figure size 576x432 with 1 Axes>"
      ]
     },
     "metadata": {
      "needs_background": "light"
     },
     "output_type": "display_data"
    }
   ],
   "source": [
    "thinkplot.Clf()\n",
    "thinkplot.PrePlot(num=1)\n",
    "thinkplot.Pmf(wait)\n",
    "thinkplot.Config(xlabel='waiting time (minutes)',\n",
    "                ylabel='PMF')"
   ]
  },
  {
   "cell_type": "markdown",
   "metadata": {},
   "source": [
    "This is indeed what was obtained at the beginning of the solution, using the unbiased distribution of waiting times."
   ]
  },
  {
   "cell_type": "markdown",
   "metadata": {},
   "source": [
    "Let's follow the book and re-compute it using the biased distribution."
   ]
  },
  {
   "cell_type": "code",
   "execution_count": 130,
   "metadata": {},
   "outputs": [],
   "source": [
    "wait2 = ProbOfWaitingTime(arrivalTime2, label='waiting time from biased distribution')"
   ]
  },
  {
   "cell_type": "code",
   "execution_count": 131,
   "metadata": {},
   "outputs": [
    {
     "data": {
      "image/png": "[encoded data removed]",
      "text/plain": [
       "<Figure size 576x432 with 1 Axes>"
      ]
     },
     "metadata": {
      "needs_background": "light"
     },
     "output_type": "display_data"
    }
   ],
   "source": [
    "thinkplot.Clf()\n",
    "thinkplot.PrePlot(num=2)\n",
    "thinkplot.Pmfs([wait, wait2])\n",
    "thinkplot.Config(xlabel='waiting time (minutes)',\n",
    "                ylabel='PMF')"
   ]
  },
  {
   "cell_type": "markdown",
   "metadata": {},
   "source": [
    "The difference between the two distributions above is very interesting: in both cases the waiting times below 5 minutes are counted twice, as they appear both for the 5- and the 10-minutes time intervals, but they get different weights."
   ]
  },
  {
   "cell_type": "markdown",
   "metadata": {},
   "source": [
    "Let's test the `WaitTimeCalculator` class"
   ]
  },
  {
   "cell_type": "code",
   "execution_count": 139,
   "metadata": {},
   "outputs": [],
   "source": [
    "test = WaitTimeCalculator(arrivalTime)"
   ]
  },
  {
   "cell_type": "code",
   "execution_count": 146,
   "metadata": {},
   "outputs": [
    {
     "data": {
      "image/png": "[encoded data removed]",
      "text/plain": [
       "<Figure size 576x432 with 1 Axes>"
      ]
     },
     "metadata": {
      "needs_background": "light"
     },
     "output_type": "display_data"
    }
   ],
   "source": [
    "thinkplot.Clf()\n",
    "thinkplot.PrePlot(num=2)\n",
    "thinkplot.Hists([test.pmf_z, test.pmf_zb], alpha=.2)\n",
    "thinkplot.Config(xlabel='time between busses (minutes)',\n",
    "                ylabel='PMF')"
   ]
  },
  {
   "cell_type": "code",
   "execution_count": 147,
   "metadata": {},
   "outputs": [
    {
     "name": "stderr",
     "output_type": "stream",
     "text": [
      "No handles with labels found to put in legend.\n"
     ]
    },
    {
     "data": {
      "image/png": "[encoded data removed]",
      "text/plain": [
       "<Figure size 576x432 with 1 Axes>"
      ]
     },
     "metadata": {
      "needs_background": "light"
     },
     "output_type": "display_data"
    }
   ],
   "source": [
    "thinkplot.Clf()\n",
    "thinkplot.PrePlot(num=2)\n",
    "thinkplot.Pmf(test.pmf_y)\n",
    "thinkplot.Config(xlabel='waiting time (minutes)',\n",
    "                ylabel='PMF')"
   ]
  },
  {
   "cell_type": "markdown",
   "metadata": {},
   "source": [
    "OK, things are as expected. With the `WaitTimeCalculator` class it is possible to generalize to whatever distribution of intervals, as shown in the book."
   ]
  },
  {
   "cell_type": "markdown",
   "metadata": {},
   "source": [
    "**Ex. 7.2**: Suppose that passengers arriving at the bus stop are well-modeled by a Poisson process with parameter λ. If you arrive at the stop and find 3 people waiting, what is your posterior distribution for the time since the last bus arrived."
   ]
  },
  {
   "cell_type": "markdown",
   "metadata": {},
   "source": [
    "**Solution**: here we follow step by step what is done in section 8.4 of the book."
   ]
  },
  {
   "cell_type": "markdown",
   "metadata": {},
   "source": [
    "**Solution**:\n",
    "\n",
    "Here we want to compute the time since the last bus arrived starting from the observation of $n$ = 3 people. The key is that the time between events from a Poisson process with parameter $\\lambda$ is given by an exponential distribution.\n",
    "\n",
    "Let's outline all the ingredients we have/need:\n",
    "* P($\\rm{t}_{\\rm{bus}}$), i.e. the prior distribution of the time between arrivals of the *buses*\n",
    "* P($n$) ~ Poisson($\\lambda$), i.e.  the probability of having $n$ people arriving at the bus stop\n",
    "    * P($\\rm{t}_{\\rm person}$) ~ $\\lambda e^{-\\lambda t}$, i.e. the probability distribution of the time between *people* arriving at the bus stop\n",
    "    \n",
    "We want to compute the posterior distribution of the time since the last bus, i.e.: P($\\rm{t_{bus}}$|$n$). The whole point is that $n$ is connected to time because of the Possion <--> Exponential link.\n",
    "\n",
    "**Thougts:** the complex part of this problem is that two different things are mixed, i.e. the time of the *buses* and the time of the *people*. I guess that in general one should try to get a probability distribution for $\\lambda$ and use it in the rest of the exercise.\n",
    "\n",
    "Also here in the end it all boils down to computing something like the probability of $\\rm{t_{bus}}$ being $n$ times higher than $\\rm{t_{people}}$."
   ]
  },
  {
   "cell_type": "code",
   "execution_count": 22,
   "metadata": {},
   "outputs": [],
   "source": [
    "class People(thinkbayes2.Suite):\n",
    "    \"\"\"\n",
    "    represents hypothesis about people arriving at the bus stop.\n",
    "    \"\"\"\n",
    "    def __init__(self, label=None):\n",
    "        low = 0\n",
    "        high = 15\n",
    "        \n",
    "        pmf = thinkbayes2.MakeUniformPmf(low, high, 101)\n",
    "        thinkbayes2.Suite.__init__(self, pmf, label=label)\n",
    "        \n",
    "    def Likelihood(self, data, hypo):\n",
    "        \"\"\"\n",
    "        Computes the likelihood of the data under the hypothesis.\n",
    "        Evaluates the Poisson PMF for lambda and k.\n",
    "        * hypo: rate of people arriving at the bus stop\n",
    "        * data: people observed at the bus stop\n",
    "        \"\"\"\n",
    "        \n",
    "        lam = hypo\n",
    "        k = data\n",
    "        like = thinkbayes2.EvalPoissonPmf(k, lam)\n",
    "        \n",
    "        return like"
   ]
  },
  {
   "cell_type": "code",
   "execution_count": 23,
   "metadata": {},
   "outputs": [],
   "source": [
    "suite = People()"
   ]
  },
  {
   "cell_type": "code",
   "execution_count": 24,
   "metadata": {},
   "outputs": [
    {
     "data": {
      "image/png": "[encoded data removed]",
      "text/plain": [
       "<Figure size 576x432 with 1 Axes>"
      ]
     },
     "metadata": {
      "needs_background": "light"
     },
     "output_type": "display_data"
    }
   ],
   "source": [
    "thinkplot.Clf()\n",
    "\n",
    "thinkplot.PrePlot(num=1)\n",
    "thinkplot.Pmf(suite)\n",
    "\n",
    "plt.title('prior distribution of lambda');"
   ]
  },
  {
   "cell_type": "markdown",
   "metadata": {},
   "source": [
    "Now update the suite with the observed data:"
   ]
  },
  {
   "cell_type": "code",
   "execution_count": 25,
   "metadata": {},
   "outputs": [
    {
     "data": {
      "text/plain": [
       "0.0659935292454853"
      ]
     },
     "execution_count": 25,
     "metadata": {},
     "output_type": "execute_result"
    }
   ],
   "source": [
    "suite.UpdateSet([3])"
   ]
  },
  {
   "cell_type": "code",
   "execution_count": 26,
   "metadata": {},
   "outputs": [
    {
     "data": {
      "image/png": "[encoded data removed]",
      "text/plain": [
       "<Figure size 576x432 with 1 Axes>"
      ]
     },
     "metadata": {
      "needs_background": "light"
     },
     "output_type": "display_data"
    }
   ],
   "source": [
    "thinkplot.Clf()\n",
    "\n",
    "thinkplot.PrePlot(num=1)\n",
    "thinkplot.Pmf(suite)\n",
    "\n",
    "plt.title('posterior distribution of lambda');"
   ]
  },
  {
   "cell_type": "code",
   "execution_count": null,
   "metadata": {},
   "outputs": [],
   "source": []
  }
 ],
 "metadata": {
  "kernelspec": {
   "display_name": "Python 3",
   "language": "python",
   "name": "python3"
  },
  "language_info": {
   "codemirror_mode": {
    "name": "ipython",
    "version": 3
   },
   "file_extension": ".py",
   "mimetype": "text/x-python",
   "name": "python",
   "nbconvert_exporter": "python",
   "pygments_lexer": "ipython3",
   "version": "3.7.7"
  }
 },
 "nbformat": 4,
 "nbformat_minor": 4
}
