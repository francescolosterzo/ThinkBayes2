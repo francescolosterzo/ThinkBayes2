{
 "cells": [
  {
   "cell_type": "markdown",
   "metadata": {},
   "source": [
    "# Bus\n",
    "This notebook contains the solutions to the exercises in chapter 7 of the book. It looks like the exercises changed in the second edition of the book (see [here](https://github.com/francescolosterzo/ThinkBayes2/blob/master/code/chap07.ipynb)).\n",
    "So in this notebook I'll solve the exercises on the book (on my version, at least) and then move on to solve the ones in the notebook linked above."
   ]
  },
  {
   "cell_type": "code",
   "execution_count": 2,
   "metadata": {},
   "outputs": [],
   "source": [
    "import matplotlib.pyplot as plt\n",
    "import numpy as np\n",
    "\n",
    "import thinkbayes2\n",
    "import thinkplot"
   ]
  },
  {
   "cell_type": "markdown",
   "metadata": {},
   "source": [
    "**Assignment**:\n",
    "If buses arrive at a bus stop every 20 minutes, and you arrive at the bus stop at a random time, your wait time until the bus arrives is uniformly distributed from 0 to 20 minutes.\n",
    "\n",
    "But in reality, there is variability in the time between buses. Suppose you are waiting for a bus, and you know the historical distribution of time between buses. Compute your distribution of wait times.\n",
    "\n",
    "*Hint*: Suppose that the time between buses is either 5 or 10 minutes with equal probability. What is the probability that you arrive during one of the 10 minute intervals?\n"
   ]
  },
  {
   "cell_type": "markdown",
   "metadata": {},
   "source": [
    "**Solution**: the first sentence can be written in terms of probability as follows:\n",
    "\n",
    "P($\\Delta$t = 20min) = 1  \n",
    "P(wait) = uniform(0,20)\n",
    "\n",
    "Following the hint of the two possible waiting times, we have:\n",
    "\n",
    "P($\\Delta$t = 5min) = 0.5  \n",
    "P($\\Delta$t = 10min) = 0.5\n",
    "\n",
    "and each of them brings to an uniform distribution between 0 and $\\Delta$t. So the final P(wait) is the combination of the two components:\n",
    "\n",
    "P(wait) = P($\\Delta$t = 5min) $\\times$ uniform(0,5) + P($\\Delta$t = 10min) $\\times$ uniform(0,10)"
   ]
  },
  {
   "cell_type": "markdown",
   "metadata": {},
   "source": [
    "Using Allen's machinery this can be easily computed with \"mixtures\". Let's first define a class `Wait` (similar to the class `Die` introduced when showing mixtures)."
   ]
  },
  {
   "cell_type": "code",
   "execution_count": 8,
   "metadata": {},
   "outputs": [],
   "source": [
    "class Wait(thinkbayes2.Pmf):\n",
    "    '''\n",
    "    represent the waiting time for a bus\n",
    "    '''\n",
    "    def __init__(self, minutes, label=''):\n",
    "        '''\n",
    "        initialize\n",
    "        * minutes: number of minutes between buses\n",
    "        * label: string\n",
    "        '''\n",
    "        \n",
    "        hypos = range(0, minutes)\n",
    "        thinkbayes2.Pmf.__init__(self, hypos, label=label)"
   ]
  },
  {
   "cell_type": "markdown",
   "metadata": {},
   "source": [
    "Double check: model the example in the first sentence."
   ]
  },
  {
   "cell_type": "code",
   "execution_count": 9,
   "metadata": {},
   "outputs": [],
   "source": [
    "wait = Wait(20)"
   ]
  },
  {
   "cell_type": "code",
   "execution_count": 10,
   "metadata": {},
   "outputs": [
    {
     "data": {
      "image/png": "[encoded data removed]",
      "text/plain": [
       "<Figure size 576x432 with 1 Axes>"
      ]
     },
     "metadata": {
      "needs_background": "light"
     },
     "output_type": "display_data"
    }
   ],
   "source": [
    "thinkplot.Clf()\n",
    "thinkplot.PrePlot(num=1)\n",
    "\n",
    "thinkplot.Pmf(wait)"
   ]
  },
  {
   "cell_type": "markdown",
   "metadata": {},
   "source": [
    "Get the probability distribution of `wait` in the more realistic case."
   ]
  },
  {
   "cell_type": "code",
   "execution_count": 11,
   "metadata": {},
   "outputs": [],
   "source": [
    "w5 = Wait(5)\n",
    "w10 = Wait(10)"
   ]
  },
  {
   "cell_type": "code",
   "execution_count": 13,
   "metadata": {},
   "outputs": [
    {
     "data": {
      "text/plain": [
       "1.0"
      ]
     },
     "execution_count": 13,
     "metadata": {},
     "output_type": "execute_result"
    }
   ],
   "source": [
    "wait = thinkbayes2.Pmf()\n",
    "\n",
    "wait.Set(w5, 0.5)\n",
    "wait.Set(w10, 0.5)\n",
    "\n",
    "wait.Normalize()"
   ]
  },
  {
   "cell_type": "code",
   "execution_count": 14,
   "metadata": {},
   "outputs": [],
   "source": [
    "mix = thinkbayes2.MakeMixture(wait)"
   ]
  },
  {
   "cell_type": "code",
   "execution_count": 15,
   "metadata": {},
   "outputs": [
    {
     "data": {
      "image/png": "[encoded data removed]",
      "text/plain": [
       "<Figure size 576x432 with 1 Axes>"
      ]
     },
     "metadata": {
      "needs_background": "light"
     },
     "output_type": "display_data"
    }
   ],
   "source": [
    "thinkplot.Clf()\n",
    "thinkplot.PrePlot(num=1)\n",
    "\n",
    "thinkplot.Pmf(mix)"
   ]
  },
  {
   "cell_type": "code",
   "execution_count": null,
   "metadata": {},
   "outputs": [],
   "source": []
  }
 ],
 "metadata": {
  "kernelspec": {
   "display_name": "Python 3",
   "language": "python",
   "name": "python3"
  },
  "language_info": {
   "codemirror_mode": {
    "name": "ipython",
    "version": 3
   },
   "file_extension": ".py",
   "mimetype": "text/x-python",
   "name": "python",
   "nbconvert_exporter": "python",
   "pygments_lexer": "ipython3",
   "version": "3.7.7"
  }
 },
 "nbformat": 4,
 "nbformat_minor": 4
}
