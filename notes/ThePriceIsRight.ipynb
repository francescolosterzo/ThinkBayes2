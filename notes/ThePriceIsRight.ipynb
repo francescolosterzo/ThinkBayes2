{
 "cells": [
  {
   "cell_type": "markdown",
   "metadata": {},
   "source": [
    "# The Price is Right\n",
    "Here are some notes and self exploration about the example covering the game \"The Price is Right\" in chapter 6."
   ]
  },
  {
   "cell_type": "code",
   "execution_count": 1,
   "metadata": {},
   "outputs": [],
   "source": [
    "import pandas as pd\n",
    "import matplotlib.pyplot as plt\n",
    "%matplotlib inline\n",
    "\n",
    "import numpy as np\n",
    "\n",
    "import sys\n",
    "sys.path.append('/Users/francesco/PersonalProjects/ThinkBayes2/')\n",
    "from scripts import price"
   ]
  },
  {
   "cell_type": "code",
   "execution_count": 2,
   "metadata": {},
   "outputs": [],
   "source": [
    "dataFolder = '/Users/francesco/PersonalProjects/data/ThinkBayes2/'"
   ]
  },
  {
   "cell_type": "markdown",
   "metadata": {},
   "source": [
    "Given the rules of the game, explained in the book, the questions are:  \n",
    "1) Before seeing the prizes, what prior beliefs should the contestant have about the price of the showcase? (i.e. what is the prior?)    \n",
    "2) After seeing the prizes, how should the contestant update those beliefs? (i.e. how do we build a posterior? what is the likelihood?)  \n",
    "3) Based on the posterior distribution, what should the contestant bid? (this is about the decision, will be investigated later)  "
   ]
  },
  {
   "cell_type": "markdown",
   "metadata": {},
   "source": [
    "## Prior\n",
    "The prior is taken from historical data about the prices of the showcases."
   ]
  },
  {
   "cell_type": "code",
   "execution_count": 3,
   "metadata": {},
   "outputs": [],
   "source": [
    "dataFiles = [\n",
    "    'showcases.2011.csv',\n",
    "    'showcases.2012.csv',\n",
    "]"
   ]
  },
  {
   "cell_type": "code",
   "execution_count": 4,
   "metadata": {},
   "outputs": [],
   "source": [
    "data = []\n",
    "for file in dataFiles:\n",
    "    data += price.ReadData(dataFolder + file)"
   ]
  },
  {
   "cell_type": "code",
   "execution_count": 5,
   "metadata": {},
   "outputs": [
    {
     "data": {
      "text/plain": [
       "313"
      ]
     },
     "execution_count": 5,
     "metadata": {},
     "output_type": "execute_result"
    }
   ],
   "source": [
    "df = pd.DataFrame(data, columns=['price1', 'price2', 'bid1', 'bid2', 'diff1', 'diff2'])\n",
    "len(df)"
   ]
  },
  {
   "cell_type": "code",
   "execution_count": 6,
   "metadata": {},
   "outputs": [
    {
     "data": {
      "text/html": [
       "<div>\n",
       "<style scoped>\n",
       "    .dataframe tbody tr th:only-of-type {\n",
       "        vertical-align: middle;\n",
       "    }\n",
       "\n",
       "    .dataframe tbody tr th {\n",
       "        vertical-align: top;\n",
       "    }\n",
       "\n",
       "    .dataframe thead th {\n",
       "        text-align: right;\n",
       "    }\n",
       "</style>\n",
       "<table border=\"1\" class=\"dataframe\">\n",
       "  <thead>\n",
       "    <tr style=\"text-align: right;\">\n",
       "      <th></th>\n",
       "      <th>price1</th>\n",
       "      <th>price2</th>\n",
       "      <th>bid1</th>\n",
       "      <th>bid2</th>\n",
       "      <th>diff1</th>\n",
       "      <th>diff2</th>\n",
       "    </tr>\n",
       "  </thead>\n",
       "  <tbody>\n",
       "    <tr>\n",
       "      <th>0</th>\n",
       "      <td>50969</td>\n",
       "      <td>45429</td>\n",
       "      <td>42000</td>\n",
       "      <td>34000</td>\n",
       "      <td>8969</td>\n",
       "      <td>11429</td>\n",
       "    </tr>\n",
       "    <tr>\n",
       "      <th>1</th>\n",
       "      <td>21901</td>\n",
       "      <td>34061</td>\n",
       "      <td>14000</td>\n",
       "      <td>59900</td>\n",
       "      <td>7901</td>\n",
       "      <td>-25839</td>\n",
       "    </tr>\n",
       "    <tr>\n",
       "      <th>2</th>\n",
       "      <td>32815</td>\n",
       "      <td>53186</td>\n",
       "      <td>32000</td>\n",
       "      <td>45000</td>\n",
       "      <td>815</td>\n",
       "      <td>8186</td>\n",
       "    </tr>\n",
       "    <tr>\n",
       "      <th>3</th>\n",
       "      <td>44432</td>\n",
       "      <td>31428</td>\n",
       "      <td>27000</td>\n",
       "      <td>38000</td>\n",
       "      <td>17432</td>\n",
       "      <td>-6572</td>\n",
       "    </tr>\n",
       "    <tr>\n",
       "      <th>4</th>\n",
       "      <td>24273</td>\n",
       "      <td>22320</td>\n",
       "      <td>18750</td>\n",
       "      <td>23000</td>\n",
       "      <td>5523</td>\n",
       "      <td>-680</td>\n",
       "    </tr>\n",
       "  </tbody>\n",
       "</table>\n",
       "</div>"
      ],
      "text/plain": [
       "   price1  price2   bid1   bid2  diff1  diff2\n",
       "0   50969   45429  42000  34000   8969  11429\n",
       "1   21901   34061  14000  59900   7901 -25839\n",
       "2   32815   53186  32000  45000    815   8186\n",
       "3   44432   31428  27000  38000  17432  -6572\n",
       "4   24273   22320  18750  23000   5523   -680"
      ]
     },
     "execution_count": 6,
     "metadata": {},
     "output_type": "execute_result"
    }
   ],
   "source": [
    "df.head()"
   ]
  }
 ],
 "metadata": {
  "kernelspec": {
   "display_name": "Python 3",
   "language": "python",
   "name": "python3"
  },
  "language_info": {
   "codemirror_mode": {
    "name": "ipython",
    "version": 3
   },
   "file_extension": ".py",
   "mimetype": "text/x-python",
   "name": "python",
   "nbconvert_exporter": "python",
   "pygments_lexer": "ipython3",
   "version": "3.7.7"
  }
 },
 "nbformat": 4,
 "nbformat_minor": 4
}
