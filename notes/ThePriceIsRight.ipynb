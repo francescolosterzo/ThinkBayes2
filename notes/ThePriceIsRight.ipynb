{
 "cells": [
  {
   "cell_type": "markdown",
   "metadata": {},
   "source": [
    "# The Price is Right\n",
    "Here are some notes and self exploration about the example covering the game \"The Price is Right\" in chapter 6."
   ]
  },
  {
   "cell_type": "code",
   "execution_count": 1,
   "metadata": {},
   "outputs": [],
   "source": [
    "import pandas as pd\n",
    "import matplotlib.pyplot as plt\n",
    "%matplotlib inline\n",
    "\n",
    "import numpy as np\n",
    "\n",
    "import sys\n",
    "sys.path.append('/Users/francesco/PersonalProjects/ThinkBayes2/')\n",
    "from scripts import price\n",
    "\n",
    "import thinkbayes2\n",
    "import thinkplot"
   ]
  },
  {
   "cell_type": "markdown",
   "metadata": {},
   "source": [
    "Given the rules of the game (explained in the book) the questions are:  \n",
    "1) Before seeing the prizes, what prior beliefs should the contestant have about the price of the showcase? (i.e. what is the prior?)    \n",
    "2) After seeing the prizes, how should the contestant update those beliefs? (i.e. how do we build a posterior? what is the likelihood?)  \n",
    "3) Based on the posterior distribution, what should the contestant bid? (this is about the decision, will be investigated later)  "
   ]
  },
  {
   "cell_type": "markdown",
   "metadata": {},
   "source": [
    "## Prior\n",
    "The prior is taken from historical data about the prices of the showcases."
   ]
  },
  {
   "cell_type": "code",
   "execution_count": 2,
   "metadata": {},
   "outputs": [],
   "source": [
    "dataFolder = '/Users/francesco/PersonalProjects/data/ThinkBayes2/'"
   ]
  },
  {
   "cell_type": "code",
   "execution_count": 3,
   "metadata": {},
   "outputs": [],
   "source": [
    "dataFiles = [\n",
    "    'showcases.2011.csv',\n",
    "    'showcases.2012.csv',\n",
    "]"
   ]
  },
  {
   "cell_type": "code",
   "execution_count": 4,
   "metadata": {},
   "outputs": [],
   "source": [
    "data = []\n",
    "for file in dataFiles:\n",
    "    data += price.ReadData(dataFolder + file)"
   ]
  },
  {
   "cell_type": "code",
   "execution_count": 5,
   "metadata": {},
   "outputs": [
    {
     "data": {
      "text/plain": [
       "313"
      ]
     },
     "execution_count": 5,
     "metadata": {},
     "output_type": "execute_result"
    }
   ],
   "source": [
    "df = pd.DataFrame(data, columns=['price1', 'price2', 'bid1', 'bid2', 'diff1', 'diff2'])\n",
    "len(df)"
   ]
  },
  {
   "cell_type": "code",
   "execution_count": 6,
   "metadata": {},
   "outputs": [
    {
     "data": {
      "text/html": [
       "<div>\n",
       "<style scoped>\n",
       "    .dataframe tbody tr th:only-of-type {\n",
       "        vertical-align: middle;\n",
       "    }\n",
       "\n",
       "    .dataframe tbody tr th {\n",
       "        vertical-align: top;\n",
       "    }\n",
       "\n",
       "    .dataframe thead th {\n",
       "        text-align: right;\n",
       "    }\n",
       "</style>\n",
       "<table border=\"1\" class=\"dataframe\">\n",
       "  <thead>\n",
       "    <tr style=\"text-align: right;\">\n",
       "      <th></th>\n",
       "      <th>price1</th>\n",
       "      <th>price2</th>\n",
       "      <th>bid1</th>\n",
       "      <th>bid2</th>\n",
       "      <th>diff1</th>\n",
       "      <th>diff2</th>\n",
       "    </tr>\n",
       "  </thead>\n",
       "  <tbody>\n",
       "    <tr>\n",
       "      <th>0</th>\n",
       "      <td>50969</td>\n",
       "      <td>45429</td>\n",
       "      <td>42000</td>\n",
       "      <td>34000</td>\n",
       "      <td>8969</td>\n",
       "      <td>11429</td>\n",
       "    </tr>\n",
       "    <tr>\n",
       "      <th>1</th>\n",
       "      <td>21901</td>\n",
       "      <td>34061</td>\n",
       "      <td>14000</td>\n",
       "      <td>59900</td>\n",
       "      <td>7901</td>\n",
       "      <td>-25839</td>\n",
       "    </tr>\n",
       "    <tr>\n",
       "      <th>2</th>\n",
       "      <td>32815</td>\n",
       "      <td>53186</td>\n",
       "      <td>32000</td>\n",
       "      <td>45000</td>\n",
       "      <td>815</td>\n",
       "      <td>8186</td>\n",
       "    </tr>\n",
       "    <tr>\n",
       "      <th>3</th>\n",
       "      <td>44432</td>\n",
       "      <td>31428</td>\n",
       "      <td>27000</td>\n",
       "      <td>38000</td>\n",
       "      <td>17432</td>\n",
       "      <td>-6572</td>\n",
       "    </tr>\n",
       "    <tr>\n",
       "      <th>4</th>\n",
       "      <td>24273</td>\n",
       "      <td>22320</td>\n",
       "      <td>18750</td>\n",
       "      <td>23000</td>\n",
       "      <td>5523</td>\n",
       "      <td>-680</td>\n",
       "    </tr>\n",
       "  </tbody>\n",
       "</table>\n",
       "</div>"
      ],
      "text/plain": [
       "   price1  price2   bid1   bid2  diff1  diff2\n",
       "0   50969   45429  42000  34000   8969  11429\n",
       "1   21901   34061  14000  59900   7901 -25839\n",
       "2   32815   53186  32000  45000    815   8186\n",
       "3   44432   31428  27000  38000  17432  -6572\n",
       "4   24273   22320  18750  23000   5523   -680"
      ]
     },
     "execution_count": 6,
     "metadata": {},
     "output_type": "execute_result"
    }
   ],
   "source": [
    "df.head()"
   ]
  },
  {
   "cell_type": "code",
   "execution_count": 7,
   "metadata": {},
   "outputs": [
    {
     "data": {
      "image/png": "[encoded data removed]",
      "text/plain": [
       "<Figure size 432x288 with 1 Axes>"
      ]
     },
     "metadata": {
      "needs_background": "light"
     },
     "output_type": "display_data"
    }
   ],
   "source": [
    "args = {\n",
    "    'histtype': 'step',\n",
    "    'linewidth': 2,\n",
    "    'density': True,\n",
    "    'grid': False,\n",
    "    'bins': np.arange(10000, 100000, 2500),\n",
    "}\n",
    "\n",
    "df['price1'].hist(label='price1', **args);\n",
    "df['price2'].hist(label='price2', **args);\n",
    "\n",
    "plt.title('')\n",
    "plt.legend(loc=2);\n",
    "plt.xlabel('price [$]');\n",
    "plt.ylabel('normalized entries');"
   ]
  },
  {
   "cell_type": "markdown",
   "metadata": {},
   "source": [
    "The two discrete data distributions are transformed into continuous distributions by taking the kernel density estimation."
   ]
  },
  {
   "cell_type": "code",
   "execution_count": 8,
   "metadata": {},
   "outputs": [],
   "source": [
    "p1_kde = thinkbayes2.EstimatedPdf(df['price1'].tolist())\n",
    "p2_kde = thinkbayes2.EstimatedPdf(df['price2'].tolist())"
   ]
  },
  {
   "cell_type": "markdown",
   "metadata": {},
   "source": [
    "Transform the KDEs to PMFs."
   ]
  },
  {
   "cell_type": "code",
   "execution_count": 9,
   "metadata": {},
   "outputs": [],
   "source": [
    "n = 101\n",
    "price_xs = np.linspace(0, 75000, n)\n",
    "\n",
    "p1_pmf = p1_kde.MakePmf(xs=price_xs)\n",
    "p2_pmf = p2_kde.MakePmf(xs=price_xs)"
   ]
  },
  {
   "cell_type": "code",
   "execution_count": 10,
   "metadata": {},
   "outputs": [],
   "source": [
    "x1 = [k for k in p1_pmf.d.keys()]\n",
    "y1 = [p1_pmf.d[k] for k in x1]\n",
    "\n",
    "x2 = [k for k in p2_pmf.d.keys()]\n",
    "y2 = [p2_pmf.d[k] for k in x2]"
   ]
  },
  {
   "cell_type": "code",
   "execution_count": 11,
   "metadata": {},
   "outputs": [
    {
     "data": {
      "image/png": "[encoded data removed]",
      "text/plain": [
       "<Figure size 432x288 with 1 Axes>"
      ]
     },
     "metadata": {
      "needs_background": "light"
     },
     "output_type": "display_data"
    }
   ],
   "source": [
    "plt.figure()\n",
    "\n",
    "plt.plot(x1, y1, label='price1');\n",
    "plt.plot(x2, y2, label='price2');\n",
    "\n",
    "plt.legend(loc='best')\n",
    "\n",
    "plt.xlabel('price [$]');\n",
    "plt.ylabel('PDF');"
   ]
  },
  {
   "cell_type": "code",
   "execution_count": 12,
   "metadata": {
    "scrolled": false
   },
   "outputs": [
    {
     "data": {
      "image/png": "[encoded data removed]",
      "text/plain": [
       "<Figure size 576x432 with 1 Axes>"
      ]
     },
     "metadata": {
      "needs_background": "light"
     },
     "output_type": "display_data"
    }
   ],
   "source": [
    "## do the same plot using thinkplot\n",
    "\n",
    "thinkplot.Clf()\n",
    "thinkplot.PrePlot(num=2)\n",
    "\n",
    "p1_pmf.label='price 1'\n",
    "p2_pmf.label='price 2'\n",
    "\n",
    "thinkplot.Pdfs([p1_pmf, p2_pmf])\n",
    "plt.legend();"
   ]
  },
  {
   "cell_type": "markdown",
   "metadata": {},
   "source": [
    "The two curves are the priors for price 1 and price 2. It is worth noticing that these are priors for the price of each showcase, i.e. these are not P(showcase1) and P(showcase2) (similar to P(H1) and P(H2)), but the prior is on the price of each individual showcase. In other words, for each showcase there is a set of hypotheses, each representing a price, and each with a given probability."
   ]
  },
  {
   "cell_type": "markdown",
   "metadata": {},
   "source": [
    "## Data and Likelihood\n",
    "We now have the priors, i.e. the probability of the price of each showcase before we see the prizes. After that, the contestant sees the prizes, guesses the price of each prize and sums them up. The sum is the `guess`. In Allen's framing of the problem, the `guess`-es are the data.\n",
    "\n",
    "It took me a while to realize it, since I was thinking that the prizes are the data and then the process was to get the posterior given the data, i.e. get the value of the price after having seen the prize. \"Guessing the value of the price once we see the data\" is indeed the what we want to do, but here we are talking about two different levels: in my picture this would have been something like: \"what is the price of a showcase containing (e.g.) a car, a guitar and a blender?\". This of course could become very complicated and very hard to complete as, e.g., there is a different price for each different car. Allen's framing instead summarizes the showcase in the `price` and the data in the `guess`. \"Once the contestant sees the prize and makes his/her guess, what do we know about the price?\".\n",
    "\n",
    "Let's think about the contestant as an instrument to measure the price of the prize: given a prize, i.e. a price, the outcome of the measurement (i.e. what we could actually read on our \"instrument\") is a guess. That's all the data we have. Then we can wonder about what is the actual price given the guess.\n",
    "\n",
    "Writing this down in terms of probability, it becomes: P(price|guess) $\\propto$ P(guess|price)$\\times$P(price)"
   ]
  },
  {
   "cell_type": "code",
   "execution_count": null,
   "metadata": {},
   "outputs": [],
   "source": []
  }
 ],
 "metadata": {
  "kernelspec": {
   "display_name": "Python 3",
   "language": "python",
   "name": "python3"
  },
  "language_info": {
   "codemirror_mode": {
    "name": "ipython",
    "version": 3
   },
   "file_extension": ".py",
   "mimetype": "text/x-python",
   "name": "python",
   "nbconvert_exporter": "python",
   "pygments_lexer": "ipython3",
   "version": "3.7.7"
  }
 },
 "nbformat": 4,
 "nbformat_minor": 4
}
