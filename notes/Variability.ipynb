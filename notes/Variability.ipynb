{
 "cells": [
  {
   "cell_type": "markdown",
   "metadata": {},
   "source": [
    "# Variability\n",
    "The \"variability\" example and exercise proposed in chapter 10 is explored."
   ]
  },
  {
   "cell_type": "code",
   "execution_count": 1,
   "metadata": {},
   "outputs": [],
   "source": [
    "import thinkbayes2\n",
    "import thinkplot\n",
    "import pandas as pd\n",
    "import numpy as np\n",
    "import math\n",
    "import scipy\n",
    "import matplotlib.pyplot as plt\n",
    "\n",
    "import sys\n",
    "sys.path.append('/Users/francesco/PersonalProjects/ThinkBayes2/')\n",
    "from scripts import brfss\n",
    "\n",
    "from scripts import variability"
   ]
  },
  {
   "cell_type": "markdown",
   "metadata": {},
   "source": [
    "Load the data"
   ]
  },
  {
   "cell_type": "code",
   "execution_count": 2,
   "metadata": {},
   "outputs": [],
   "source": [
    "df = brfss.ReadBrfss('/Users/francesco/PersonalProjects/ThinkBayes2/data/CDBRFS08.ASC.gz')"
   ]
  },
  {
   "cell_type": "code",
   "execution_count": 3,
   "metadata": {},
   "outputs": [
    {
     "data": {
      "text/plain": [
       "(414509, 6)"
      ]
     },
     "execution_count": 3,
     "metadata": {},
     "output_type": "execute_result"
    }
   ],
   "source": [
    "df.shape"
   ]
  },
  {
   "cell_type": "code",
   "execution_count": 4,
   "metadata": {},
   "outputs": [
    {
     "data": {
      "text/html": [
       "<div>\n",
       "<style scoped>\n",
       "    .dataframe tbody tr th:only-of-type {\n",
       "        vertical-align: middle;\n",
       "    }\n",
       "\n",
       "    .dataframe tbody tr th {\n",
       "        vertical-align: top;\n",
       "    }\n",
       "\n",
       "    .dataframe thead th {\n",
       "        text-align: right;\n",
       "    }\n",
       "</style>\n",
       "<table border=\"1\" class=\"dataframe\">\n",
       "  <thead>\n",
       "    <tr style=\"text-align: right;\">\n",
       "      <th></th>\n",
       "      <th>age</th>\n",
       "      <th>sex</th>\n",
       "      <th>wtyrago</th>\n",
       "      <th>finalwt</th>\n",
       "      <th>wtkg2</th>\n",
       "      <th>htm3</th>\n",
       "    </tr>\n",
       "  </thead>\n",
       "  <tbody>\n",
       "    <tr>\n",
       "      <th>0</th>\n",
       "      <td>82.0</td>\n",
       "      <td>2</td>\n",
       "      <td>76.363636</td>\n",
       "      <td>185.870345</td>\n",
       "      <td>70.91</td>\n",
       "      <td>157.0</td>\n",
       "    </tr>\n",
       "    <tr>\n",
       "      <th>1</th>\n",
       "      <td>65.0</td>\n",
       "      <td>2</td>\n",
       "      <td>72.727273</td>\n",
       "      <td>126.603027</td>\n",
       "      <td>72.73</td>\n",
       "      <td>163.0</td>\n",
       "    </tr>\n",
       "    <tr>\n",
       "      <th>2</th>\n",
       "      <td>48.0</td>\n",
       "      <td>2</td>\n",
       "      <td>NaN</td>\n",
       "      <td>181.063210</td>\n",
       "      <td>NaN</td>\n",
       "      <td>165.0</td>\n",
       "    </tr>\n",
       "    <tr>\n",
       "      <th>3</th>\n",
       "      <td>61.0</td>\n",
       "      <td>1</td>\n",
       "      <td>73.636364</td>\n",
       "      <td>517.926275</td>\n",
       "      <td>73.64</td>\n",
       "      <td>170.0</td>\n",
       "    </tr>\n",
       "    <tr>\n",
       "      <th>4</th>\n",
       "      <td>26.0</td>\n",
       "      <td>1</td>\n",
       "      <td>88.636364</td>\n",
       "      <td>1252.624630</td>\n",
       "      <td>88.64</td>\n",
       "      <td>185.0</td>\n",
       "    </tr>\n",
       "  </tbody>\n",
       "</table>\n",
       "</div>"
      ],
      "text/plain": [
       "    age  sex    wtyrago      finalwt  wtkg2   htm3\n",
       "0  82.0    2  76.363636   185.870345  70.91  157.0\n",
       "1  65.0    2  72.727273   126.603027  72.73  163.0\n",
       "2  48.0    2        NaN   181.063210    NaN  165.0\n",
       "3  61.0    1  73.636364   517.926275  73.64  170.0\n",
       "4  26.0    1  88.636364  1252.624630  88.64  185.0"
      ]
     },
     "execution_count": 4,
     "metadata": {},
     "output_type": "execute_result"
    }
   ],
   "source": [
    "df.head()"
   ]
  },
  {
   "cell_type": "code",
   "execution_count": 11,
   "metadata": {},
   "outputs": [
    {
     "data": {
      "image/png": "[encoded data removed]",
      "text/plain": [
       "<Figure size 432x288 with 1 Axes>"
      ]
     },
     "metadata": {
      "needs_background": "light"
     },
     "output_type": "display_data"
    }
   ],
   "source": [
    "args = {\n",
    "    'histtype': 'step',\n",
    "    'linewidth': 2,\n",
    "    'bins': np.linspace(50,250,45)\n",
    "}\n",
    "\n",
    "df[ df['sex']==1 ]['htm3'].hist(label='M', **args);\n",
    "df[ df['sex']==2 ]['htm3'].hist(label='W', **args);\n",
    "plt.legend(loc='best');"
   ]
  },
  {
   "cell_type": "markdown",
   "metadata": {},
   "source": [
    "Summary statistics and coefficient of variation"
   ]
  },
  {
   "cell_type": "code",
   "execution_count": 12,
   "metadata": {},
   "outputs": [],
   "source": [
    "df['sex'].replace({1: 'M', 2: 'W'}, inplace=True)"
   ]
  },
  {
   "cell_type": "code",
   "execution_count": 13,
   "metadata": {},
   "outputs": [
    {
     "data": {
      "text/plain": [
       "W    258806\n",
       "M    155703\n",
       "Name: sex, dtype: int64"
      ]
     },
     "execution_count": 13,
     "metadata": {},
     "output_type": "execute_result"
    }
   ],
   "source": [
    "df['sex'].value_counts()"
   ]
  },
  {
   "cell_type": "code",
   "execution_count": 8,
   "metadata": {},
   "outputs": [
    {
     "name": "stdout",
     "output_type": "stream",
     "text": [
      "M : mean = 178.07, std = 7.72, cv = 0.0434\n",
      "W : mean = 163.22, std = 7.27, cv = 0.0445\n"
     ]
    }
   ],
   "source": [
    "grouped = df[['sex', 'htm3']].groupby('sex')\n",
    "for name, group in grouped:\n",
    "    m = group['htm3'].mean()\n",
    "    s = group['htm3'].std()\n",
    "    cv = s/m\n",
    "    \n",
    "    print(name, ': mean = {0:.2f}, std = {1:.2f}, cv = {2:.4f}'.format(m, s, cv))"
   ]
  },
  {
   "cell_type": "markdown",
   "metadata": {},
   "source": [
    "## Mean and standard deviation\n",
    "Here the focus is on the actual problem of estimating the mean and the standard deviation of the two populations. In order to do that a smaller sample is used, then the same procedure is applied to the whole dataset to check that indeed the \"underflow problem\" occurs."
   ]
  },
  {
   "cell_type": "code",
   "execution_count": 9,
   "metadata": {},
   "outputs": [],
   "source": [
    "df_data = df[ ~df['htm3'].isna() ].sample(n=100)"
   ]
  },
  {
   "cell_type": "code",
   "execution_count": 10,
   "metadata": {},
   "outputs": [
    {
     "data": {
      "text/plain": [
       "W    59\n",
       "M    41\n",
       "Name: sex, dtype: int64"
      ]
     },
     "execution_count": 10,
     "metadata": {},
     "output_type": "execute_result"
    }
   ],
   "source": [
    "df_data['sex'].value_counts()"
   ]
  },
  {
   "cell_type": "code",
   "execution_count": 11,
   "metadata": {},
   "outputs": [],
   "source": [
    "data = {}\n",
    "for s in df_data['sex'].unique():\n",
    "    data[s] = df_data[ df_data['sex']==s ]['htm3'].values"
   ]
  },
  {
   "cell_type": "markdown",
   "metadata": {},
   "source": [
    "The choice is to model the data of each cohort with a Gaussian distribution (which is legitimate) and the goal is to estimate the parameters of the Gaussians."
   ]
  },
  {
   "cell_type": "markdown",
   "metadata": {},
   "source": [
    "**step1**: set some priors on the parameters of the Gaussians. In the book both `mu` and `sigma` are assigned uniform priors, while the range is estimated directly from the data: starting from the mean and the standard deviation of the data and their standard errors, a wider interval is defined.\n",
    "\n",
    "This is done in `variability.FindPriorRanges(...)`, but for the sake of the exercise, we redo it."
   ]
  },
  {
   "cell_type": "code",
   "execution_count": 12,
   "metadata": {},
   "outputs": [],
   "source": [
    "def MakeRange(estimate, stderr, n_points, num_stderrs=3):\n",
    "    \n",
    "    spread = num_stderrs * stderr\n",
    "    return np.linspace(estimate-spread, estimate+spread, n_points)\n",
    "\n",
    "def FindPriorRanges(values, n_points, num_stderrs=3):\n",
    "    \n",
    "    n = len(values)\n",
    "    \n",
    "    ### mean\n",
    "    m = np.mean(values)\n",
    "    m_stderr = m / math.sqrt(n)\n",
    "    \n",
    "    ### standard deviation\n",
    "    s = np.std(values)\n",
    "    s_stderr = s / math.sqrt(2*(n-1))\n",
    "    \n",
    "    mus = MakeRange(m, m_stderr, n_points, num_stderrs=num_stderrs)\n",
    "    sigmas = MakeRange(s, s_stderr, n_points, num_stderrs=num_stderrs)\n",
    "    \n",
    "    return mus, sigmas"
   ]
  },
  {
   "cell_type": "markdown",
   "metadata": {},
   "source": [
    "As an example, check one of the two cohorts:"
   ]
  },
  {
   "cell_type": "code",
   "execution_count": 13,
   "metadata": {},
   "outputs": [
    {
     "name": "stdout",
     "output_type": "stream",
     "text": [
      "sex: M\n",
      "mus: 50 points, 92.4902591896192 --> 255.5585212981857\n",
      "sigmas: 50 points, 5.35002152368951 --> 10.750199985939837\n"
     ]
    }
   ],
   "source": [
    "sex = 'M'\n",
    "mus, sigmas = FindPriorRanges(data[sex], 50, num_stderrs=3)\n",
    "print('sex:', sex)\n",
    "print(f'mus: {len(mus)} points, {np.min(mus)} --> {np.max(mus)}')\n",
    "print(f'sigmas: {len(sigmas)} points, {np.min(sigmas)} --> {np.max(sigmas)}')"
   ]
  },
  {
   "cell_type": "markdown",
   "metadata": {},
   "source": [
    "Following the example in the book, define an `Height` class:"
   ]
  },
  {
   "cell_type": "code",
   "execution_count": 14,
   "metadata": {},
   "outputs": [],
   "source": [
    "class Heigth(thinkbayes2.Suite, thinkbayes2.Joint):\n",
    "    \n",
    "    def __init__(self, mus, sigmas, label=None):\n",
    "        '''\n",
    "        init the class with uniform priors on mu and sigma\n",
    "        '''\n",
    "        \n",
    "        pairs = [ (mu, sigma)\n",
    "                for mu in mus\n",
    "                for sigma in sigmas ]\n",
    "        \n",
    "        thinkbayes2.Suite.__init__(self, pairs, label=label)\n",
    "        \n",
    "    def Likelihood(self, data, hypo):\n",
    "        \n",
    "        height = data\n",
    "        mu, sigma = hypo\n",
    "        \n",
    "        like = scipy.stats.norm.pdf(height, mu, sigma)\n",
    "        \n",
    "        return like\n",
    "    \n",
    "    def LogLikelihood(self, data, hypo):\n",
    "        \n",
    "        x = data\n",
    "        mu, sigma = hypo\n",
    "        \n",
    "        loglike = scipy.stats.norm.logpdf(x, mu, sigma)\n",
    "\n",
    "        return loglike"
   ]
  },
  {
   "cell_type": "markdown",
   "metadata": {},
   "source": [
    "A few comments:\n",
    "\n",
    "The uniform prior on `mu` and `sigma` is given \"implicitly\" by the fact that the `Suite.__init__` method is fed simply with the list of (pairs of) values. A more general approach would be to provide pdfs (or pmfs) for `mu` and `sigma` and feed `Suite.__init__` accordingly.\n",
    "\n",
    "As usual the `Likelihood` method contains the modelling choice. As stated above the data are modelled with a Gaussian shape and for a given value of the height the question is: given the hypothesis, what is the probability of observing the given height?"
   ]
  },
  {
   "cell_type": "markdown",
   "metadata": {},
   "source": [
    "Now go on and run the exercise for the two populations:"
   ]
  },
  {
   "cell_type": "code",
   "execution_count": 15,
   "metadata": {},
   "outputs": [],
   "source": [
    "distr = {}"
   ]
  },
  {
   "cell_type": "code",
   "execution_count": 16,
   "metadata": {},
   "outputs": [],
   "source": [
    "for sex in data.keys():\n",
    "    \n",
    "    mus, sigmas = FindPriorRanges(data[sex], 50, num_stderrs=3)\n",
    "    \n",
    "    height = Heigth(mus, sigmas, label=sex)\n",
    "    \n",
    "    distr[sex] = height"
   ]
  },
  {
   "cell_type": "markdown",
   "metadata": {},
   "source": [
    "Check that the priors are indeed uniform"
   ]
  },
  {
   "cell_type": "code",
   "execution_count": 17,
   "metadata": {},
   "outputs": [
    {
     "data": {
      "image/png": "[encoded data removed]",
      "text/plain": [
       "<Figure size 576x432 with 1 Axes>"
      ]
     },
     "metadata": {
      "needs_background": "light"
     },
     "output_type": "display_data"
    }
   ],
   "source": [
    "sex = 'M'\n",
    "\n",
    "thinkplot.Clf()\n",
    "thinkplot.PrePlot(num=1)\n",
    "thinkplot.Pmf(distr[sex].Marginal(0), label='mu')\n",
    "thinkplot.Config(xlabel=f'{sex} height',\n",
    "                ylabel='PMF',\n",
    "                title='prior distribution')"
   ]
  },
  {
   "cell_type": "markdown",
   "metadata": {},
   "source": [
    "Now update with data:\n",
    "\n",
    "**Comment**: the cell below indeed crashes because of \"all probabilities are zero\" already for a total sample size of 150-200 people :\\"
   ]
  },
  {
   "cell_type": "code",
   "execution_count": 18,
   "metadata": {},
   "outputs": [],
   "source": [
    "for sex in distr.keys():\n",
    "    \n",
    "    distr[sex].UpdateSet(data[sex])"
   ]
  },
  {
   "cell_type": "markdown",
   "metadata": {},
   "source": [
    "Check the posteriors:"
   ]
  },
  {
   "cell_type": "code",
   "execution_count": 19,
   "metadata": {},
   "outputs": [
    {
     "name": "stderr",
     "output_type": "stream",
     "text": [
      "No handles with labels found to put in legend.\n"
     ]
    },
    {
     "data": {
      "image/png": "[encoded data removed]",
      "text/plain": [
       "<Figure size 576x432 with 1 Axes>"
      ]
     },
     "metadata": {
      "needs_background": "light"
     },
     "output_type": "display_data"
    }
   ],
   "source": [
    "thinkplot.Clf()\n",
    "thinkplot.PrePlot(num=2)\n",
    "thinkplot.Pmfs([distr['M'].Marginal(0), distr['W'].Marginal(0)])\n",
    "thinkplot.Config(xlabel='mu',\n",
    "                ylabel='PMF')"
   ]
  },
  {
   "cell_type": "code",
   "execution_count": 20,
   "metadata": {},
   "outputs": [
    {
     "name": "stderr",
     "output_type": "stream",
     "text": [
      "No handles with labels found to put in legend.\n"
     ]
    },
    {
     "data": {
      "image/png": "[encoded data removed]",
      "text/plain": [
       "<Figure size 576x432 with 1 Axes>"
      ]
     },
     "metadata": {
      "needs_background": "light"
     },
     "output_type": "display_data"
    }
   ],
   "source": [
    "thinkplot.Clf()\n",
    "thinkplot.PrePlot(num=2)\n",
    "thinkplot.Pmfs([distr['M'].Marginal(1), distr['W'].Marginal(1)])\n",
    "thinkplot.Config(xlabel='sigma',\n",
    "                ylabel='PMF')"
   ]
  },
  {
   "cell_type": "markdown",
   "metadata": {},
   "source": [
    "The posterior values of the `mu`-s are very narrow, but the posterior values of the `sigma`-s are quite widely spread."
   ]
  },
  {
   "cell_type": "code",
   "execution_count": 21,
   "metadata": {},
   "outputs": [
    {
     "name": "stdout",
     "output_type": "stream",
     "text": [
      "##### M\n",
      "Maximum likelihood values:\n",
      "(172.36042838565177, 8.215422340393765)\n",
      "##### W\n",
      "Maximum likelihood values:\n",
      "(160.47334178512523, 7.286926809107063)\n"
     ]
    }
   ],
   "source": [
    "for sex in distr.keys():\n",
    "    \n",
    "    print('#####', sex)\n",
    "    print('Maximum likelihood values:')\n",
    "    print(distr[sex].MaximumLikelihood())"
   ]
  },
  {
   "cell_type": "code",
   "execution_count": 22,
   "metadata": {},
   "outputs": [
    {
     "name": "stdout",
     "output_type": "stream",
     "text": [
      "##### M\n",
      "Marginal mean values:\n",
      "mean: 174.02439024390256  std: 8.42909237137329\n",
      "##### W\n",
      "Marginal mean values:\n",
      "mean: 161.76271186440673  std: 7.409676893829619\n"
     ]
    }
   ],
   "source": [
    "for sex in distr.keys():\n",
    "    \n",
    "    print('#####', sex)\n",
    "    print('Marginal mean values:')\n",
    "    print('mean:', distr[sex].Marginal(0).Mean(), ' std:', distr[sex].Marginal(1).Mean())"
   ]
  },
  {
   "cell_type": "code",
   "execution_count": 23,
   "metadata": {},
   "outputs": [
    {
     "name": "stdout",
     "output_type": "stream",
     "text": [
      "W : mean = 174.02, std = 8.05, cv = 0.0463\n",
      "W : mean = 161.76, std = 7.16, cv = 0.0443\n"
     ]
    }
   ],
   "source": [
    "for sex in data.keys():\n",
    "    m = data[sex].mean()\n",
    "    s = data[sex].std()\n",
    "    cv = s/m\n",
    "    \n",
    "    print(name, ': mean = {0:.2f}, std = {1:.2f}, cv = {2:.4f}'.format(m, s, cv))"
   ]
  },
  {
   "cell_type": "markdown",
   "metadata": {},
   "source": [
    "The summary statistics of the sample are very similar to the mean of the marginal posteriors!"
   ]
  },
  {
   "cell_type": "markdown",
   "metadata": {},
   "source": [
    "With the posterior distributions of `mu` and `sigma` it is possible to build the posterior distribution of the coefficient of variation `cv`"
   ]
  },
  {
   "cell_type": "code",
   "execution_count": 46,
   "metadata": {},
   "outputs": [],
   "source": [
    "def getCV(height, label=None, roundTo=None):\n",
    "    \n",
    "    pmf = thinkbayes2.Pmf(label=label)\n",
    "    \n",
    "    for (mu, sigma), prob in height.Items():\n",
    "        \n",
    "        cv = sigma/mu\n",
    "        if roundTo:\n",
    "            cv = round(cv * roundTo) / roundTo\n",
    "        pmf.Incr(cv, prob)\n",
    "        \n",
    "    pmf.Normalize()\n",
    "    return pmf"
   ]
  },
  {
   "cell_type": "code",
   "execution_count": 25,
   "metadata": {},
   "outputs": [],
   "source": [
    "cvs = {}\n",
    "for sex in distr.keys():\n",
    "    cvs[sex] = getCV(distr[sex], label=sex)"
   ]
  },
  {
   "cell_type": "code",
   "execution_count": 26,
   "metadata": {},
   "outputs": [
    {
     "data": {
      "image/png": "[encoded data removed]",
      "text/plain": [
       "<Figure size 576x432 with 1 Axes>"
      ]
     },
     "metadata": {
      "needs_background": "light"
     },
     "output_type": "display_data"
    }
   ],
   "source": [
    "thinkplot.Clf()\n",
    "thinkplot.PrePlot(num=2)\n",
    "thinkplot.Pmfs([cvs['M'], cvs['W']])\n",
    "thinkplot.Config(xlabel='CV',\n",
    "                ylabel='PMF')"
   ]
  },
  {
   "cell_type": "markdown",
   "metadata": {},
   "source": [
    "## Underflow\n",
    "As stated above, the step of updating the distributions with the data only works for a small sample size (< 150), and it gives errors of all the probabilities being zero above. Also the above posterior distribution of the coefficient of variation is filled with zeros and rounding the values when computing it of course reduces the precision."
   ]
  },
  {
   "cell_type": "markdown",
   "metadata": {},
   "source": [
    "Following what Allen says, it is enough to use log-transform everything in order to get rid of this problem. Let's redo the exercise with a larger sample and check. The log-related methods are added in the above definition of `Height`."
   ]
  },
  {
   "cell_type": "markdown",
   "metadata": {},
   "source": [
    "1) get the data and create the instances of `Height`"
   ]
  },
  {
   "cell_type": "code",
   "execution_count": 27,
   "metadata": {},
   "outputs": [],
   "source": [
    "df_data = df[ ~df['htm3'].isna() ].sample(n=2000)"
   ]
  },
  {
   "cell_type": "code",
   "execution_count": 28,
   "metadata": {},
   "outputs": [],
   "source": [
    "data = {}\n",
    "for s in df_data['sex'].unique():\n",
    "    data[s] = df_data[ df_data['sex']==s ]['htm3'].values"
   ]
  },
  {
   "cell_type": "code",
   "execution_count": 29,
   "metadata": {},
   "outputs": [],
   "source": [
    "distr_u = {}\n",
    "for sex in data.keys():\n",
    "    \n",
    "    mus, sigmas = FindPriorRanges(data[sex], 50, num_stderrs=3)\n",
    "    \n",
    "    height = Heigth(mus, sigmas, label=sex)\n",
    "    \n",
    "    distr_u[sex] = height"
   ]
  },
  {
   "cell_type": "markdown",
   "metadata": {},
   "source": [
    "2) log-transform"
   ]
  },
  {
   "cell_type": "code",
   "execution_count": 30,
   "metadata": {},
   "outputs": [],
   "source": [
    "for sex in distr_u.keys():\n",
    "    \n",
    "    distr_u[sex].Log()"
   ]
  },
  {
   "cell_type": "markdown",
   "metadata": {},
   "source": [
    "Out of curiosity, check what the marginal prior on `mu` looks like (it is uniform in the \"linear\" space)"
   ]
  },
  {
   "cell_type": "code",
   "execution_count": 31,
   "metadata": {},
   "outputs": [
    {
     "data": {
      "image/png": "[encoded data removed]",
      "text/plain": [
       "<Figure size 576x432 with 1 Axes>"
      ]
     },
     "metadata": {
      "needs_background": "light"
     },
     "output_type": "display_data"
    }
   ],
   "source": [
    "sex = 'M'\n",
    "\n",
    "thinkplot.Clf()\n",
    "thinkplot.PrePlot(num=1)\n",
    "thinkplot.Pmf(distr_u[sex].Marginal(0), label='mu')\n",
    "thinkplot.Config(xlabel=f'{sex} height',\n",
    "                ylabel='PMF',\n",
    "                title='prior distribution')"
   ]
  },
  {
   "cell_type": "markdown",
   "metadata": {},
   "source": [
    "it is flat at 0! And it makes sense since all values are normalized to the maximum likelihood before log-transforming the distribution (which gives the maximum log-prob = 0) and in the uniform distribution all values are equal :)"
   ]
  },
  {
   "cell_type": "markdown",
   "metadata": {},
   "source": [
    "3) update the log probs"
   ]
  },
  {
   "cell_type": "code",
   "execution_count": 32,
   "metadata": {},
   "outputs": [],
   "source": [
    "for sex in distr_u.keys():\n",
    "    distr_u[sex].LogUpdateSet(data[sex])"
   ]
  },
  {
   "cell_type": "markdown",
   "metadata": {},
   "source": [
    "... it is slow indeed ..."
   ]
  },
  {
   "cell_type": "markdown",
   "metadata": {},
   "source": [
    "4) take the exp of the distributions and normalize"
   ]
  },
  {
   "cell_type": "code",
   "execution_count": 33,
   "metadata": {},
   "outputs": [],
   "source": [
    "for sex in distr_u.keys():\n",
    "    distr_u[sex].Exp()\n",
    "    distr_u[sex].Normalize()"
   ]
  },
  {
   "cell_type": "markdown",
   "metadata": {},
   "source": [
    "Check the marginal/conditional posteriors"
   ]
  },
  {
   "cell_type": "code",
   "execution_count": 34,
   "metadata": {},
   "outputs": [
    {
     "name": "stderr",
     "output_type": "stream",
     "text": [
      "No handles with labels found to put in legend.\n"
     ]
    },
    {
     "data": {
      "image/png": "[encoded data removed]",
      "text/plain": [
       "<Figure size 576x432 with 1 Axes>"
      ]
     },
     "metadata": {
      "needs_background": "light"
     },
     "output_type": "display_data"
    }
   ],
   "source": [
    "thinkplot.Clf()\n",
    "thinkplot.PrePlot(num=2)\n",
    "thinkplot.Pmfs([distr_u['M'].Marginal(0), distr_u['W'].Marginal(0)])\n",
    "thinkplot.Config(xlabel='mu',\n",
    "                ylabel='PMF')"
   ]
  },
  {
   "cell_type": "code",
   "execution_count": 35,
   "metadata": {},
   "outputs": [
    {
     "name": "stderr",
     "output_type": "stream",
     "text": [
      "No handles with labels found to put in legend.\n"
     ]
    },
    {
     "data": {
      "image/png": "[encoded data removed]",
      "text/plain": [
       "<Figure size 576x432 with 1 Axes>"
      ]
     },
     "metadata": {
      "needs_background": "light"
     },
     "output_type": "display_data"
    }
   ],
   "source": [
    "thinkplot.Clf()\n",
    "thinkplot.PrePlot(num=2)\n",
    "thinkplot.Pmfs([distr_u['M'].Marginal(1), distr_u['W'].Marginal(1)])\n",
    "thinkplot.Config(xlabel='sigma',\n",
    "                ylabel='PMF')"
   ]
  },
  {
   "cell_type": "code",
   "execution_count": 45,
   "metadata": {},
   "outputs": [],
   "source": [
    "cvs_u = {}\n",
    "for sex in distr_u.keys():\n",
    "    cvs_u[sex] = getCV(distr_u[sex], label=sex)"
   ]
  },
  {
   "cell_type": "code",
   "execution_count": 46,
   "metadata": {},
   "outputs": [
    {
     "data": {
      "image/png": "[encoded data removed]",
      "text/plain": [
       "<Figure size 576x432 with 1 Axes>"
      ]
     },
     "metadata": {
      "needs_background": "light"
     },
     "output_type": "display_data"
    }
   ],
   "source": [
    "thinkplot.Clf()\n",
    "thinkplot.PrePlot(num=2)\n",
    "thinkplot.Pmfs([cvs_u['M'], cvs_u['W']])\n",
    "thinkplot.Config(xlabel='CV',\n",
    "                ylabel='PMF')"
   ]
  },
  {
   "cell_type": "markdown",
   "metadata": {},
   "source": [
    "The above distributions are still filled with zeros :\\"
   ]
  },
  {
   "cell_type": "code",
   "execution_count": 48,
   "metadata": {},
   "outputs": [
    {
     "data": {
      "image/png": "[encoded data removed]",
      "text/plain": [
       "<Figure size 576x432 with 1 Axes>"
      ]
     },
     "metadata": {
      "needs_background": "light"
     },
     "output_type": "display_data"
    }
   ],
   "source": [
    "thinkplot.Clf()\n",
    "thinkplot.PrePlot(num=2)\n",
    "thinkplot.Cdfs([cvs_u['M'].MakeCdf(), cvs_u['W'].MakeCdf()])\n",
    "thinkplot.Config(xlabel='CV',\n",
    "                ylabel='PMF')"
   ]
  },
  {
   "cell_type": "markdown",
   "metadata": {},
   "source": [
    "## ABC\n",
    "Start using the code in `scripts/variability.py` to go through the ABC method."
   ]
  },
  {
   "cell_type": "markdown",
   "metadata": {},
   "source": [
    "Two different important aspects are introduced here:\n",
    "\n",
    "1) the core of the ABC method, i.e.: we are not interested in the likelihood of a specific subset of data, but rather in the likelihood of any datasete equivalent to the one we saw. This is crucial since it allows to compute the likelihood of the summary statistics of the subset of the data (`mu` and `sigma` in this case) rather than the likelihood of every single point in the subset\n",
    "\n",
    "2) in order to get rid of outliers, one can use median and inter-percentile range instead of `mu` and `sigma`"
   ]
  },
  {
   "cell_type": "markdown",
   "metadata": {},
   "source": [
    "Now let's use the full dataset!"
   ]
  },
  {
   "cell_type": "code",
   "execution_count": 19,
   "metadata": {},
   "outputs": [],
   "source": [
    "df_data = df[ ~df['htm3'].isna() ]"
   ]
  },
  {
   "cell_type": "code",
   "execution_count": 20,
   "metadata": {},
   "outputs": [
    {
     "data": {
      "text/plain": [
       "Index(['age', 'sex', 'wtyrago', 'finalwt', 'wtkg2', 'htm3'], dtype='object')"
      ]
     },
     "execution_count": 20,
     "metadata": {},
     "output_type": "execute_result"
    }
   ],
   "source": [
    "df_data.columns"
   ]
  },
  {
   "cell_type": "code",
   "execution_count": 21,
   "metadata": {},
   "outputs": [
    {
     "data": {
      "text/plain": [
       "array(['W', 'M'], dtype=object)"
      ]
     },
     "execution_count": 21,
     "metadata": {},
     "output_type": "execute_result"
    }
   ],
   "source": [
    "df_data['sex'].unique()"
   ]
  },
  {
   "cell_type": "code",
   "execution_count": 22,
   "metadata": {},
   "outputs": [],
   "source": [
    "data = {}\n",
    "for sex in df_data['sex'].unique():\n",
    "    data[sex] = df_data[ df_data['sex']==sex ]['htm3'].values"
   ]
  },
  {
   "cell_type": "code",
   "execution_count": 23,
   "metadata": {},
   "outputs": [
    {
     "data": {
      "text/plain": [
       "dict_keys(['W', 'M'])"
      ]
     },
     "execution_count": 23,
     "metadata": {},
     "output_type": "execute_result"
    }
   ],
   "source": [
    "data.keys()"
   ]
  },
  {
   "cell_type": "code",
   "execution_count": 49,
   "metadata": {},
   "outputs": [
    {
     "name": "stdout",
     "output_type": "stream",
     "text": [
      "classical estimators 163.22347500412215 7.269142017824814\n",
      "classical estimators 178.06622109101272 7.723538444338627\n"
     ]
    }
   ],
   "source": [
    "suites = {}\n",
    "for sex in data.keys():\n",
    "    \n",
    "    mus, sigmas = variability.FindPriorRanges(data[sex], 50, num_stderrs=3)\n",
    "    \n",
    "    height = variability.Height(mus, sigmas, label=sex)\n",
    "    \n",
    "    suites[sex] = height"
   ]
  },
  {
   "cell_type": "markdown",
   "metadata": {},
   "source": [
    "1) log-transform  \n",
    "2) update with data, using ABC method  \n",
    "3) exponentiate  \n",
    "4) normalize"
   ]
  },
  {
   "cell_type": "code",
   "execution_count": 50,
   "metadata": {},
   "outputs": [],
   "source": [
    "for sex in data.keys():\n",
    "    \n",
    "    suites[sex].Log()\n",
    "    \n",
    "    n = len(data[sex])\n",
    "    m = data[sex].mean()\n",
    "    s = data[sex].std()\n",
    "    \n",
    "    ### this one uses mean and standard deviation\n",
    "    suites[sex].LogUpdateSetABC(n, m, s)\n",
    "    \n",
    "    ### this one uses median and IPR\n",
    "    #suites[sex].LogUpdateSetMedianIPR(data[sex],)\n",
    "    \n",
    "    suites[sex].Exp()\n",
    "    \n",
    "    suites[sex].Normalize()"
   ]
  },
  {
   "cell_type": "markdown",
   "metadata": {},
   "source": [
    "Check the marginal posteriors"
   ]
  },
  {
   "cell_type": "code",
   "execution_count": 51,
   "metadata": {},
   "outputs": [
    {
     "name": "stderr",
     "output_type": "stream",
     "text": [
      "No handles with labels found to put in legend.\n"
     ]
    },
    {
     "data": {
      "image/png": "[encoded data removed]",
      "text/plain": [
       "<Figure size 576x432 with 1 Axes>"
      ]
     },
     "metadata": {
      "needs_background": "light"
     },
     "output_type": "display_data"
    }
   ],
   "source": [
    "thinkplot.Clf()\n",
    "thinkplot.PrePlot(num=2)\n",
    "thinkplot.Pmfs([suites['M'].Marginal(0), suites['W'].Marginal(0)])\n",
    "thinkplot.Config(xlabel='mu',\n",
    "                ylabel='PMF')"
   ]
  },
  {
   "cell_type": "code",
   "execution_count": 52,
   "metadata": {},
   "outputs": [
    {
     "name": "stderr",
     "output_type": "stream",
     "text": [
      "No handles with labels found to put in legend.\n"
     ]
    },
    {
     "data": {
      "image/png": "[encoded data removed]",
      "text/plain": [
       "<Figure size 576x432 with 1 Axes>"
      ]
     },
     "metadata": {
      "needs_background": "light"
     },
     "output_type": "display_data"
    }
   ],
   "source": [
    "thinkplot.Clf()\n",
    "thinkplot.PrePlot(num=2)\n",
    "thinkplot.Pmfs([suites['M'].Marginal(1), suites['W'].Marginal(1)])\n",
    "thinkplot.Config(xlabel='sigma',\n",
    "                ylabel='PMF')"
   ]
  },
  {
   "cell_type": "markdown",
   "metadata": {},
   "source": [
    "Get the posterior coefficients of variation"
   ]
  },
  {
   "cell_type": "code",
   "execution_count": 53,
   "metadata": {},
   "outputs": [],
   "source": [
    "cvs_full = {}\n",
    "for sex in suites.keys():\n",
    "    cvs_full[sex] = getCV(suites[sex], label=sex)"
   ]
  },
  {
   "cell_type": "code",
   "execution_count": 54,
   "metadata": {},
   "outputs": [
    {
     "data": {
      "image/png": "[encoded data removed]",
      "text/plain": [
       "<Figure size 576x432 with 1 Axes>"
      ]
     },
     "metadata": {
      "needs_background": "light"
     },
     "output_type": "display_data"
    }
   ],
   "source": [
    "thinkplot.Clf()\n",
    "thinkplot.PrePlot(num=2)\n",
    "thinkplot.Cdfs([cvs_full['M'].MakeCdf(), cvs_full['W'].MakeCdf()])\n",
    "thinkplot.Config(xlabel='CV',\n",
    "                ylabel='PMF')"
   ]
  },
  {
   "cell_type": "markdown",
   "metadata": {},
   "source": [
    "Women are more variable in height than men!"
   ]
  },
  {
   "cell_type": "code",
   "execution_count": null,
   "metadata": {},
   "outputs": [],
   "source": []
  }
 ],
 "metadata": {
  "kernelspec": {
   "display_name": "Python 3",
   "language": "python",
   "name": "python3"
  },
  "language_info": {
   "codemirror_mode": {
    "name": "ipython",
    "version": 3
   },
   "file_extension": ".py",
   "mimetype": "text/x-python",
   "name": "python",
   "nbconvert_exporter": "python",
   "pygments_lexer": "ipython3",
   "version": "3.7.7"
  }
 },
 "nbformat": 4,
 "nbformat_minor": 4
}
