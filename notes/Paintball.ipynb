{
 "cells": [
  {
   "cell_type": "markdown",
   "metadata": {},
   "source": [
    "# Paintball\n",
    "Go through the paintball example in chapter 9"
   ]
  },
  {
   "cell_type": "code",
   "execution_count": 9,
   "metadata": {},
   "outputs": [],
   "source": [
    "import thinkbayes2\n",
    "import thinkplot\n",
    "import numpy as np\n",
    "import math\n",
    "import matplotlib.pyplot as plt"
   ]
  },
  {
   "cell_type": "markdown",
   "metadata": {},
   "source": [
    "The problem is clear: there is a shooter in an unknown position in a room and we only observe his bullets hitting the wall. We want to infer his position from the observations.\n",
    "\n",
    "The position is in 2D and we are supposing that the he is shooting towards a single wall. The (unknown) position of the shooter is expressed by $(\\alpha, \\beta)$, the position of the bullet is $x$ and the shooting angle is $\\theta$:\n",
    "\n",
    "<img src=\"paintball.png\" style=\"width: 200px;\"/>\n",
    "\n",
    "As stated above, we observe the position of the bullet $\\alpha + x$ and we want to infer the position of the shooter $(\\alpha, \\beta)$. As a first step we need to find a connection between the two:\n",
    "$$x - \\alpha = \\beta \\tan \\theta$$"
   ]
  },
  {
   "cell_type": "markdown",
   "metadata": {},
   "source": [
    "From the book:\n",
    "> As a simple model, imagine that the opponent is like a rotating turret, equally likely to shoot in any direction.\n",
    "\n",
    "This means assuming that $\\theta$ has a uniform distribution. In order to check what this assumption means in terms of $x$, let's assume we know $\\alpha$ and $\\beta$, which then fixes the lower and upper bounds for $\\theta$, assuming that the shooter only shoots towards one wall and we know the lenght of the wall ($L$)."
   ]
  },
  {
   "cell_type": "code",
   "execution_count": 25,
   "metadata": {},
   "outputs": [],
   "source": [
    "L = 30\n",
    "alpha = 10\n",
    "beta = 15\n",
    "\n",
    "thetaMin = - ((math.pi/2) - math.atan2(beta, alpha))\n",
    "thetaMax = math.atan2((L-alpha), beta)\n",
    "\n",
    "theta = np.random.uniform(thetaMin, thetaMax, 5000)\n",
    "x = beta * np.tan(theta) + alpha"
   ]
  },
  {
   "cell_type": "code",
   "execution_count": 31,
   "metadata": {},
   "outputs": [
    {
     "data": {
      "image/png": "[encoded data removed]",
      "text/plain": [
       "<Figure size 432x288 with 1 Axes>"
      ]
     },
     "metadata": {
      "needs_background": "light"
     },
     "output_type": "display_data"
    }
   ],
   "source": [
    "step = .02\n",
    "bins = np.arange(thetaMin, thetaMax+step, step)\n",
    "\n",
    "plt.figure()\n",
    "plt.hist(theta, bins=bins);\n",
    "\n",
    "plt.xlabel('theta');"
   ]
  },
  {
   "cell_type": "code",
   "execution_count": 33,
   "metadata": {},
   "outputs": [
    {
     "data": {
      "image/png": "[encoded data removed]",
      "text/plain": [
       "<Figure size 432x288 with 1 Axes>"
      ]
     },
     "metadata": {
      "needs_background": "light"
     },
     "output_type": "display_data"
    }
   ],
   "source": [
    "step = .5\n",
    "bins = np.arange(x.min(), x.max()+step, step)\n",
    "\n",
    "plt.figure()\n",
    "plt.hist(x, bins=bins);\n",
    "\n",
    "plt.xlabel('x');"
   ]
  },
  {
   "cell_type": "markdown",
   "metadata": {},
   "source": [
    "The above makes sense, of course and it is the reason behind the next sentence in the book:\n",
    "> In that case, he is most likely to hit the wall at location `alpha`, and less likely to hit the wall far away from `alpha`.\n",
    "\n",
    "The explanation of this is in the variation of $x$ as $\\theta$ varies, i.e. in $\\frac{\\textrm{d}x}{\\rm{d}\\theta}$:\n",
    "$$\\frac{\\textrm{d} x}{\\rm{d}\\theta} = \\frac{\\beta}{\\cos^{2}\\theta}$$"
   ]
  }
 ],
 "metadata": {
  "kernelspec": {
   "display_name": "Python 3",
   "language": "python",
   "name": "python3"
  },
  "language_info": {
   "codemirror_mode": {
    "name": "ipython",
    "version": 3
   },
   "file_extension": ".py",
   "mimetype": "text/x-python",
   "name": "python",
   "nbconvert_exporter": "python",
   "pygments_lexer": "ipython3",
   "version": "3.7.7"
  }
 },
 "nbformat": 4,
 "nbformat_minor": 4
}
