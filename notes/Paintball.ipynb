{
 "cells": [
  {
   "cell_type": "markdown",
   "metadata": {},
   "source": [
    "# Paintball\n",
    "Go through the paintball example in chapter 9"
   ]
  },
  {
   "cell_type": "code",
   "execution_count": 8,
   "metadata": {},
   "outputs": [],
   "source": [
    "import thinkbayes2\n",
    "import thinkplot\n",
    "import numpy as np\n",
    "import math\n",
    "import matplotlib.pyplot as plt\n",
    "\n",
    "import sys\n",
    "sys.path.append('/Users/francesco/PersonalProjects/ThinkBayes2/')\n",
    "from scripts import paintball"
   ]
  },
  {
   "cell_type": "markdown",
   "metadata": {},
   "source": [
    "The problem is clear: there is a shooter in an unknown position in a room and we only observe his bullets hitting the wall. We want to infer his position from the observations.\n",
    "\n",
    "The position is in 2D and we are supposing that the he is shooting towards a single wall. The (unknown) position of the shooter is expressed by $(\\alpha, \\beta)$, the position of the bullet is $x$ and the shooting angle is $\\theta$:\n",
    "\n",
    "<img src=\"paintball.png\" style=\"width: 200px;\"/>\n",
    "\n",
    "The general approach to this kind of problems is always the same: let's treat the quantities we want to find as parameters when trying to find the probability distribution of the data, in this case P($x$|$\\alpha$,$\\beta$). Than, using Bayes' theorem, we can compute the posterior of the parameters given the data."
   ]
  },
  {
   "cell_type": "markdown",
   "metadata": {},
   "source": [
    "As stated above, we observe the position of the bullet $\\alpha + x$ and we want to infer the position of the shooter $(\\alpha, \\beta)$. As a first step we need to find a connection between the two:\n",
    "$$x - \\alpha = \\beta \\tan \\theta$$"
   ]
  },
  {
   "cell_type": "markdown",
   "metadata": {},
   "source": [
    "From the book:\n",
    "> As a simple model, imagine that the opponent is like a rotating turret, equally likely to shoot in any direction.\n",
    "\n",
    "This means assuming that $\\theta$ has a uniform distribution. In order to check what this assumption means in terms of $x$, let's assume we know $\\alpha$ and $\\beta$, which then fixes the lower and upper bounds for $\\theta$, assuming that the shooter only shoots towards one wall and we know the lenght of the wall ($L$)."
   ]
  },
  {
   "cell_type": "code",
   "execution_count": 5,
   "metadata": {},
   "outputs": [],
   "source": [
    "L = 30\n",
    "alpha = 10\n",
    "beta = 15\n",
    "\n",
    "thetaMin = - ((math.pi/2) - math.atan2(beta, alpha))\n",
    "thetaMax = math.atan2((L-alpha), beta)\n",
    "\n",
    "theta = np.random.uniform(thetaMin, thetaMax, 15000)\n",
    "x = beta * np.tan(theta) + alpha"
   ]
  },
  {
   "cell_type": "code",
   "execution_count": 6,
   "metadata": {},
   "outputs": [
    {
     "data": {
      "image/png": "[encoded data removed]",
      "text/plain": [
       "<Figure size 432x288 with 1 Axes>"
      ]
     },
     "metadata": {
      "needs_background": "light"
     },
     "output_type": "display_data"
    }
   ],
   "source": [
    "step = .02\n",
    "bins = np.arange(thetaMin, thetaMax+step, step)\n",
    "\n",
    "plt.figure()\n",
    "plt.hist(theta, bins=bins);\n",
    "\n",
    "plt.xlabel('theta');"
   ]
  },
  {
   "cell_type": "code",
   "execution_count": 7,
   "metadata": {},
   "outputs": [
    {
     "data": {
      "image/png": "[encoded data removed]",
      "text/plain": [
       "<Figure size 432x288 with 1 Axes>"
      ]
     },
     "metadata": {
      "needs_background": "light"
     },
     "output_type": "display_data"
    }
   ],
   "source": [
    "step = .5\n",
    "bins = np.arange(x.min(), x.max()+step, step)\n",
    "\n",
    "plt.figure()\n",
    "plt.hist(x, bins=bins);\n",
    "\n",
    "plt.xlabel('x');"
   ]
  },
  {
   "cell_type": "markdown",
   "metadata": {},
   "source": [
    "The above makes sense, of course and it is the reason behind the next sentence in the book:\n",
    "> In that case, he is most likely to hit the wall at location `alpha`, and less likely to hit the wall far away from `alpha`.\n",
    "\n",
    "Here one should investigate better the transformation of the probability distribution in order to get the exact P($x$) given P($\\theta$) and the relationship between the two variables."
   ]
  },
  {
   "cell_type": "markdown",
   "metadata": {},
   "source": [
    "The main idea to solve the problem is: once we observe $x$, we can compute $\\theta$ simply reversing the above formula:\n",
    "$$\\theta = \\tan^{-1}(\\frac{x - \\alpha}{\\beta})$$"
   ]
  },
  {
   "cell_type": "markdown",
   "metadata": {},
   "source": [
    "Then Allen claims that the probability of $x$ is proportional to the inverse of the derivative of $x$ wrt/ $\\theta$, $\\frac{\\textrm{d}x}{\\rm{d}\\theta}$:\n",
    "$$\\frac{\\textrm{d} x}{\\rm{d}\\theta} = \\frac{\\beta}{\\cos^{2}\\theta} = s(\\theta)$$"
   ]
  },
  {
   "cell_type": "markdown",
   "metadata": {},
   "source": [
    "So in principle, having $\\alpha$ and $\\beta$ it is possible to compute P($x$):\n",
    "$$\\textrm{P}(x) \\propto \\frac{1}{s(\\theta(\\alpha,\\beta))}$$\n",
    "This is computed in `MakeLocationPmf(...)`."
   ]
  },
  {
   "cell_type": "code",
   "execution_count": 9,
   "metadata": {},
   "outputs": [],
   "source": [
    "locations = np.linspace(0, L, 1000)\n",
    "pmf = paintball.MakeLocationPmf(alpha, beta, locations)"
   ]
  },
  {
   "cell_type": "code",
   "execution_count": 11,
   "metadata": {},
   "outputs": [
    {
     "name": "stderr",
     "output_type": "stream",
     "text": [
      "No handles with labels found to put in legend.\n"
     ]
    },
    {
     "data": {
      "image/png": "[encoded data removed]",
      "text/plain": [
       "<Figure size 576x432 with 1 Axes>"
      ]
     },
     "metadata": {
      "needs_background": "light"
     },
     "output_type": "display_data"
    }
   ],
   "source": [
    "thinkplot.Clf()\n",
    "thinkplot.PrePlot(num=1)\n",
    "thinkplot.Pmf(pmf)\n",
    "thinkplot.config(xlabel='x',\n",
    "                ylable='PMF')"
   ]
  },
  {
   "cell_type": "markdown",
   "metadata": {},
   "source": [
    "The above is consistent with the empiric distribution found earlier."
   ]
  },
  {
   "cell_type": "markdown",
   "metadata": {},
   "source": [
    "The above formula of P($x$) is indeed P($x$|$\\alpha$, $\\beta$) which is all we need to compute the likelihood, and indeed it's used in the `Paintball` class:\n",
    "```\n",
    "def Likelihood(self, data, hypo):\n",
    "    \"\"\"Computes the likelihood of the data under the hypothesis.\n",
    "    hypo: pair of alpha, beta\n",
    "    data: location of a hit\n",
    "    Returns: float likelihood\n",
    "    \"\"\"\n",
    "    alpha, beta = hypo\n",
    "    x = data\n",
    "    pmf = MakeLocationPmf(alpha, beta, self.locations)\n",
    "    like = pmf.Prob(x)\n",
    "    return like\n",
    "```\n",
    "In particular `hypo` contains the hypotetical pair ($\\alpha$, $\\beta$), this pair is used to compute the P($x$) distribution and then the particular value of the observed $x$ is taken."
   ]
  },
  {
   "cell_type": "markdown",
   "metadata": {},
   "source": [
    "Here the important thing is that the hypotheses are composed of 2 values, $\\alpha$ and $\\beta$ and indeed what we want to find is the position of the shooter in a 2D space, i.e. P($\\alpha$, $\\beta$), and therefore we obtain a joint distribution."
   ]
  },
  {
   "cell_type": "code",
   "execution_count": null,
   "metadata": {},
   "outputs": [],
   "source": []
  }
 ],
 "metadata": {
  "kernelspec": {
   "display_name": "Python 3",
   "language": "python",
   "name": "python3"
  },
  "language_info": {
   "codemirror_mode": {
    "name": "ipython",
    "version": 3
   },
   "file_extension": ".py",
   "mimetype": "text/x-python",
   "name": "python",
   "nbconvert_exporter": "python",
   "pygments_lexer": "ipython3",
   "version": "3.7.7"
  }
 },
 "nbformat": 4,
 "nbformat_minor": 4
}
