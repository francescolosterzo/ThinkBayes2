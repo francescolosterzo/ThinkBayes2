{
 "cells": [
  {
   "cell_type": "markdown",
   "metadata": {},
   "source": [
    "# Think Bayes\n",
    "\n",
    "This notebook presents example code and exercise solutions for Think Bayes.\n",
    "\n",
    "Copyright 2018 Allen B. Downey\n",
    "\n",
    "MIT License: https://opensource.org/licenses/MIT"
   ]
  },
  {
   "cell_type": "code",
   "execution_count": 1,
   "metadata": {},
   "outputs": [],
   "source": [
    "# Configure Jupyter so figures appear in the notebook\n",
    "%matplotlib inline\n",
    "\n",
    "# Configure Jupyter to display the assigned value after an assignment\n",
    "%config InteractiveShell.ast_node_interactivity='last_expr_or_assign'\n",
    "\n",
    "# import classes from thinkbayes2\n",
    "from thinkbayes2 import Hist, Pmf, Suite, Beta\n",
    "import thinkplot"
   ]
  },
  {
   "cell_type": "markdown",
   "metadata": {},
   "source": [
    "## Unreliable observation\n",
    "\n",
    "Suppose that instead of observing coin tosses directly, you measure the outcome using an instrument that is not always correct. Specifically, suppose there is a probability `y` that an actual heads is reported as tails, or actual tails reported as heads.\n",
    "\n",
    "Write a class that estimates the bias of a coin given a series of outcomes and the value of `y`.\n",
    "\n",
    "How does the spread of the posterior distribution depend on `y`?"
   ]
  },
  {
   "cell_type": "markdown",
   "metadata": {},
   "source": [
    "**Solution:**  \n",
    "The problem now is that data and coin outcomes are different now, in particular:\n",
    "* $P(data=T|coin=H) = y$, and therefore $P(data=H|coin=H) = 1-y$\n",
    "* $P(data=H|coin=T) = y$, and therefore $P(data=T|coin=T) = 1-y$\n",
    "\n",
    "Given this, if we observe a given data, we then want to compute P(x|data), which is given by Bayes theorem:\n",
    "$$\n",
    "P(x|data) = \\frac{P(data|x) \\times P(x)}{\\sum_{x'} ( P(data|x') \\times P(x') )}\n",
    "$$\n",
    "\n",
    "In the above formula, y enters in P(data|x), i.e. in the Likelihood, as follows:\n",
    "P(data|x) = \n",
    "* if data = H: $P(data=H|coin=H) \\times P(coin=H|x) + P(data=H|coin=T) \\times P(coin=T|x)$\n",
    "* if data = T: $P(data=T|coin=H) \\times P(coin=H|x) + P(data=T|coin=T) \\times P(coin=T|x)$\n",
    "\n",
    "Inserting the values of the several proability terms, we have P(data|x) (here using $x$ instead of $x/100$):\n",
    "* if data = H: $(1-y)x + y(1-x)$\n",
    "* if data = T: $yx + (1-y)(1-x)$\n",
    "\n",
    "The above probabilty reduce to the simple case studied above if y=0 :)"
   ]
  },
  {
   "cell_type": "code",
   "execution_count": 4,
   "metadata": {},
   "outputs": [],
   "source": [
    "import numpy as np\n",
    "class EuroBias(Suite):\n",
    "    \n",
    "    def setY(self, y):\n",
    "        if not ((y >=0) and (y <=1)):\n",
    "            raise ValueError(\"y has to be between 0 and 1 (both included)\")\n",
    "        self.y = y\n",
    "    \n",
    "    def Likelihood(self, data, hypo):\n",
    "        \n",
    "        y = self.y\n",
    "        x = hypo / 100.\n",
    "        if data=='H':\n",
    "            return (1-y)*x + y*(1-x)\n",
    "        else:\n",
    "            return y*x + (1-y)*(1-x)"
   ]
  },
  {
   "cell_type": "code",
   "execution_count": 35,
   "metadata": {},
   "outputs": [],
   "source": [
    "suites = {}\n",
    "ys = [0.2, 0.5, 0.6, 0.9]\n",
    "\n",
    "for y in ys:\n",
    "    key = f'y_{y}'\n",
    "    suites[key] = EuroBias(range(0,101))\n",
    "    suites[key].setY(y)"
   ]
  },
  {
   "cell_type": "code",
   "execution_count": 38,
   "metadata": {},
   "outputs": [],
   "source": [
    "dataset = 'HHHHHHHHHHHHHHHHHHHHHHHHHTTTTTTT'\n",
    "for k, s in suites.items():\n",
    "    for data in dataset:\n",
    "        s.Update(data)"
   ]
  },
  {
   "cell_type": "code",
   "execution_count": 39,
   "metadata": {},
   "outputs": [
    {
     "data": {
      "image/png": "[encoded data removed]",
      "text/plain": [
       "<Figure size 432x288 with 1 Axes>"
      ]
     },
     "metadata": {
      "needs_background": "light"
     },
     "output_type": "display_data"
    }
   ],
   "source": [
    "for k, s in suites.items():\n",
    "    thinkplot.pmf(s, label=k)\n",
    "\n",
    "thinkplot.config(legend=True)"
   ]
  },
  {
   "cell_type": "code",
   "execution_count": 20,
   "metadata": {},
   "outputs": [],
   "source": [
    "# Solution goes here"
   ]
  },
  {
   "cell_type": "code",
   "execution_count": 21,
   "metadata": {},
   "outputs": [],
   "source": [
    "# Solution goes here"
   ]
  },
  {
   "cell_type": "markdown",
   "metadata": {},
   "source": [
    "## Unreliable evaluators\n",
    "\n",
    "This exercise is inspired by a question posted by a “redditor” named dominosci on Reddit’s statistics “subreddit” at http://reddit.com/r/statistics.\n",
    "\n",
    "Reddit is an online forum with many interest groups called subreddits. Users, called redditors, post links to online content and other web pages. Other redditors vote on the links, giving an “upvote” to high-quality links and a “downvote” to links that are bad or irrelevant.\n",
    "\n",
    "A problem, identified by dominosci, is that some redditors are more reliable than others, and Reddit does not take this into account.\n",
    "\n",
    "The challenge is to devise a system so that when a redditor casts a vote, the estimated quality of the link is updated in accordance with the reliability of the redditor, and the estimated reliability of the redditor is updated in accordance with the quality of the link.\n",
    "\n",
    "One approach is to model the quality of the link as the probability of garnering an upvote, and to model the reliability of the redditor as the probability of correctly giving an upvote to a high-quality item.\n",
    "\n",
    "Write class definitions for redditors and links and an update function that updates both objects whenever a redditor casts a vote."
   ]
  },
  {
   "cell_type": "code",
   "execution_count": 22,
   "metadata": {},
   "outputs": [],
   "source": [
    "# Solution goes here"
   ]
  },
  {
   "cell_type": "code",
   "execution_count": 23,
   "metadata": {},
   "outputs": [],
   "source": [
    "# Solution goes here"
   ]
  },
  {
   "cell_type": "code",
   "execution_count": 26,
   "metadata": {},
   "outputs": [],
   "source": [
    "# Solution goes here"
   ]
  },
  {
   "cell_type": "code",
   "execution_count": 27,
   "metadata": {},
   "outputs": [],
   "source": [
    "# Solution goes here"
   ]
  },
  {
   "cell_type": "code",
   "execution_count": 29,
   "metadata": {},
   "outputs": [],
   "source": [
    "# Solution goes here"
   ]
  },
  {
   "cell_type": "code",
   "execution_count": 30,
   "metadata": {},
   "outputs": [],
   "source": [
    "# Solution goes here"
   ]
  },
  {
   "cell_type": "code",
   "execution_count": 31,
   "metadata": {},
   "outputs": [],
   "source": [
    "# Solution goes here"
   ]
  },
  {
   "cell_type": "code",
   "execution_count": 32,
   "metadata": {
    "collapsed": true
   },
   "outputs": [],
   "source": [
    "# Solution goes here"
   ]
  }
 ],
 "metadata": {
  "kernelspec": {
   "display_name": "Python 3",
   "language": "python",
   "name": "python3"
  },
  "language_info": {
   "codemirror_mode": {
    "name": "ipython",
    "version": 3
   },
   "file_extension": ".py",
   "mimetype": "text/x-python",
   "name": "python",
   "nbconvert_exporter": "python",
   "pygments_lexer": "ipython3",
   "version": "3.7.7"
  }
 },
 "nbformat": 4,
 "nbformat_minor": 2
}
