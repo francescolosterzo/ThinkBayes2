{
 "cells": [
  {
   "cell_type": "markdown",
   "metadata": {},
   "source": [
    "# Euro problem\n",
    "Here is the solution to the ex. 4.1 from Chapter 4"
   ]
  },
  {
   "cell_type": "markdown",
   "metadata": {},
   "source": [
    "**Exercise 4.1**. *Suppose that instead of observing coin tosses directly, you measure the outcome using an instrument that is not always correct. Specifically, suppose there is a probability y that an actual heads is reported as tails, or actual tails reported as heads.*\n",
    "\n",
    "*Write a class that estimates the bias of a coin given a series of outcomes and the value of y.*\n",
    "\n",
    "*How does the spread of the posterior distribution depend on y?*"
   ]
  },
  {
   "cell_type": "code",
   "execution_count": 22,
   "metadata": {},
   "outputs": [],
   "source": [
    "# Configure Jupyter so figures appear in the notebook\n",
    "%matplotlib inline\n",
    "import numpy as np\n",
    "\n",
    "# Configure Jupyter to display the assigned value after an assignment\n",
    "#%config InteractiveShell.ast_node_interactivity='last_expr_or_assign'\n",
    "\n",
    "# import classes from thinkbayes2\n",
    "from thinkbayes2 import Hist, Pmf, Suite\n",
    "import thinkplot"
   ]
  },
  {
   "cell_type": "markdown",
   "metadata": {},
   "source": [
    "As a first step, implement the actual example in the book (i.e. y=0).\n",
    "* data are 'H' or 'T'\n",
    "* each hypothesis $H_{x}$ represents the scenario in which the coin has $x$ probability of heads."
   ]
  },
  {
   "cell_type": "code",
   "execution_count": 2,
   "metadata": {},
   "outputs": [],
   "source": [
    "class Euro(Suite):\n",
    "    \n",
    "    def Likelihood(self, data, hypo):\n",
    "        \n",
    "        x = hypo\n",
    "        if data=='H':\n",
    "            return x/100\n",
    "        else:\n",
    "            return 1 - (x/100)"
   ]
  },
  {
   "cell_type": "code",
   "execution_count": 3,
   "metadata": {},
   "outputs": [],
   "source": [
    "suite = Euro(range(0, 101))"
   ]
  },
  {
   "cell_type": "code",
   "execution_count": 4,
   "metadata": {},
   "outputs": [],
   "source": [
    "dataset = 'H'*140 + 'T'*110"
   ]
  },
  {
   "cell_type": "code",
   "execution_count": 5,
   "metadata": {},
   "outputs": [],
   "source": [
    "for data in dataset:\n",
    "    suite.Update(data)"
   ]
  },
  {
   "cell_type": "code",
   "execution_count": 6,
   "metadata": {},
   "outputs": [
    {
     "data": {
      "image/png": "[encoded data removed]",
      "text/plain": [
       "<Figure size 432x288 with 1 Axes>"
      ]
     },
     "metadata": {
      "needs_background": "light"
     },
     "output_type": "display_data"
    }
   ],
   "source": [
    "thinkplot.pmf(suite)"
   ]
  },
  {
   "cell_type": "markdown",
   "metadata": {},
   "source": [
    "OK, things work as expected."
   ]
  },
  {
   "cell_type": "markdown",
   "metadata": {},
   "source": [
    "**Solution**  \n",
    "The problem now is that data is not \"H\" or \"T\", but is a variable which has the following properties:\n",
    "* P(data=T|coin=H) = y, and therefore P(data=H|coin=H) = 1-y\n",
    "* P(data=H|coin=T) = y, and therefore P(data=T|coin=T) = 1-y\n",
    "\n",
    "Given this, if we observe a given data, we then want to compute P(x|data), which is given by Bayes theorem:\n",
    "$$\n",
    "P(x|data) = \\frac{P(data|x) \\times P(x)}{\\sum_{x'} ( P(data|x') \\times P(x') )}\n",
    "$$\n",
    "\n",
    "In the above formula, y enters in P(data|x), i.e. in the Likelihood, as follows:\n",
    "P(data|x) = \n",
    "* if data = H: P(data=H|coin=H)$\\times$P(coin=H|x) + P(data=H|coin=T)$\\times$P(coin=T|x)\n",
    "* if data = T: P(data=T|coin=H)$\\times$P(coin=H|x) + P(data=T|coin=T)$\\times$P(coin=T|x)\n",
    "\n",
    "Inserting the values of the several proability terms, we have P(data|x):\n",
    "* if data = H: $(1-y)\\frac{x}{100} + y(1-\\frac{x}{100})$\n",
    "* if data = T: $y(\\frac{x}{100}) + (1-y)(1-\\frac{x}{100})$\n",
    "\n",
    "The above probabilty reduce to the simple case studied above if y=0 :)"
   ]
  },
  {
   "cell_type": "code",
   "execution_count": 10,
   "metadata": {},
   "outputs": [],
   "source": [
    "class EuroBias(Suite):\n",
    "    \n",
    "    def setY(self, y):\n",
    "        if not ((y >=0) and (y <=1)):\n",
    "            raise ValueError(\"y has to be between 0 and 1 (both included)\")\n",
    "        self.y = y\n",
    "    \n",
    "    def Likelihood(self, data, hypo):\n",
    "        \n",
    "        y = self.y\n",
    "        x = hypo\n",
    "        if data=='H':\n",
    "            return (1-y)*(x/100) + y*(1-(x/100))\n",
    "        else:\n",
    "            return y*(x/100) + (1-y)*(1-(x/100))"
   ]
  },
  {
   "cell_type": "code",
   "execution_count": 29,
   "metadata": {},
   "outputs": [],
   "source": [
    "suites = {}\n",
    "ys = np.arange(.1, 1, 0.3)\n",
    "\n",
    "for y in ys:\n",
    "    key = f'y_{y}'\n",
    "    suites[key] = EuroBias(range(0,101))\n",
    "    suites[key].setY(y)"
   ]
  },
  {
   "cell_type": "code",
   "execution_count": 30,
   "metadata": {},
   "outputs": [],
   "source": [
    "for k, s in suites.items():\n",
    "    for data in dataset:\n",
    "        s.Update(data)"
   ]
  },
  {
   "cell_type": "code",
   "execution_count": 35,
   "metadata": {},
   "outputs": [
    {
     "data": {
      "image/png": "[encoded data removed]",
      "text/plain": [
       "<Figure size 432x288 with 1 Axes>"
      ]
     },
     "metadata": {
      "needs_background": "light"
     },
     "output_type": "display_data"
    }
   ],
   "source": [
    "thinkplot.pmf(suite, label='look at the coin')\n",
    "for k, s in suites.items():\n",
    "    thinkplot.pmf(s, label=k)"
   ]
  },
  {
   "cell_type": "code",
   "execution_count": null,
   "metadata": {},
   "outputs": [],
   "source": []
  }
 ],
 "metadata": {
  "kernelspec": {
   "display_name": "Python 3",
   "language": "python",
   "name": "python3"
  },
  "language_info": {
   "codemirror_mode": {
    "name": "ipython",
    "version": 3
   },
   "file_extension": ".py",
   "mimetype": "text/x-python",
   "name": "python",
   "nbconvert_exporter": "python",
   "pygments_lexer": "ipython3",
   "version": "3.7.7"
  }
 },
 "nbformat": 4,
 "nbformat_minor": 4
}
